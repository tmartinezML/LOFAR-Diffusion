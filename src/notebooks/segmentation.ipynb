{
 "cells": [
  {
   "cell_type": "code",
   "execution_count": 1,
   "metadata": {},
   "outputs": [
    {
     "data": {
      "text/plain": [
       "'/home/bbd0953/diffusion/src'"
      ]
     },
     "execution_count": 1,
     "metadata": {},
     "output_type": "execute_result"
    }
   ],
   "source": [
    "import matplotlib.pyplot as plt\n",
    "import torch\n",
    "import os\n",
    "from pathlib import Path\n",
    "from importlib import reload\n",
    "\n",
    "os.chdir(\"..\")  # Change root dir to project folder\n",
    "os.getcwd()"
   ]
  },
  {
   "cell_type": "markdown",
   "metadata": {},
   "source": [
    "# PyBDSF Segmentation"
   ]
  },
  {
   "cell_type": "code",
   "execution_count": 2,
   "metadata": {},
   "outputs": [
    {
     "name": "stderr",
     "output_type": "stream",
     "text": [
      "INFO (data.datasets): Loading images...\n",
      "INFO (data.datasets): Loading names from catalog...\n",
      "INFO (data.datasets): Loading 'island_labels'...\n",
      "INFO (data.datasets): Loading 'masks_edge_thr'...\n",
      "INFO (data.datasets): Loading 'masks_refined'...\n",
      "INFO (data.datasets): Loading catalog and entries...\n",
      "INFO (data.datasets): Data set initialized.\n"
     ]
    }
   ],
   "source": [
    "import utils.paths as paths\n",
    "import data.datasets\n",
    "\n",
    "reload(data.datasets)\n",
    "from data.datasets import LOFARDataset\n",
    "\n",
    "import data.segment as seg\n",
    "\n",
    "reload(seg)\n",
    "\n",
    "# Load Dataset\n",
    "dset = LOFARDataset(\n",
    "    paths.LOFAR_SUBSETS[\"200p\"], img_size=200, load_catalog=True,\n",
    "    train_mode=False,\n",
    "    # selection='clean_mask_single_island'\n",
    ")"
   ]
  },
  {
   "cell_type": "code",
   "execution_count": 3,
   "metadata": {},
   "outputs": [],
   "source": [
    "import data.transforms as T\n",
    "\n",
    "reload(T)\n",
    "import numpy as np\n",
    "import numpy.ma as ma\n",
    "\n",
    "dset.masks = dset.masks_refined\n",
    "\n",
    "# Get data from dset\n",
    "imgs = dset.data.numpy()\n",
    "imgs_sc = T.max_scale_batch(dset.data).numpy()\n",
    "masks = dset.masks.numpy()\n",
    "\n",
    "# Apply masks (True indicates invalid data)\n",
    "sources_sc = ma.masked_array(imgs_sc, mask=(masks == 0))\n",
    "backgrounds_sc = ma.masked_array(imgs_sc, mask=(masks == 1))"
   ]
  },
  {
   "cell_type": "markdown",
   "metadata": {},
   "source": [
    "## Mask Post-Processing"
   ]
  },
  {
   "cell_type": "markdown",
   "metadata": {},
   "source": [
    "Test Smoothing & Refinement with random subset:"
   ]
  },
  {
   "cell_type": "code",
   "execution_count": null,
   "metadata": {},
   "outputs": [],
   "source": [
    "import numpy as np\n",
    "from tqdm import tqdm\n",
    "import data.transforms\n",
    "\n",
    "reload(data.transforms)\n",
    "from data.transforms import minmax_scale_batch\n",
    "import os\n",
    "\n",
    "reload(seg)\n",
    "\n",
    "idx = np.random.choice(len(dset), 1_000, replace=False)\n",
    "imgs = minmax_scale_batch(dset.data[idx]).numpy()\n",
    "\n",
    "masks = seg.smooth_masks_parallel(dset.island_labels[idx])\n",
    "ref_masks = seg.refine_masks_iterative_parallel(imgs, masks)"
   ]
  },
  {
   "cell_type": "code",
   "execution_count": null,
   "metadata": {},
   "outputs": [],
   "source": [
    "from plotting.image_plots import plot_image_grid\n",
    "\n",
    "n = 10\n",
    "ii = np.random.choice(len(idx), n, replace=False)\n",
    "\n",
    "for i in ii:\n",
    "    # Plot image with three masks: original, smoothed, refined\n",
    "    img = imgs[i].squeeze()\n",
    "    fig, axs = plt.subplots(3, 3, figsize=(12,)*2, tight_layout=True)\n",
    "\n",
    "    for ax in axs.flatten():\n",
    "        ax.axis('off')\n",
    "\n",
    "    for aa in axs.T:\n",
    "        aa[0].imshow(img)\n",
    "\n",
    "    for i, mask in enumerate([dset.island_labels[idx[i]].numpy().astype(bool), masks[i], ref_masks[i]]):\n",
    "        axs[0][i].contour(mask, levels=[0.5], colors='orange', linewidths=0.5, alpha=0.9)\n",
    "        axs[1][i].imshow(img * mask)\n",
    "        axs[2][i].imshow(img * (1 - mask))\n",
    "\n",
    "    axs[0][0].set_title('PyBDSF Islands')\n",
    "    axs[0][1].set_title('Smoothed Mask')\n",
    "    axs[0][2].set_title('Refined Mask')"
   ]
  },
  {
   "cell_type": "code",
   "execution_count": null,
   "metadata": {},
   "outputs": [],
   "source": [
    "from plotting.image_plots import plot_image_grid\n",
    "\n",
    "n = 10\n",
    "ii = np.random.choice(len(idx), n, replace=False)\n",
    "\n",
    "for i in ii:\n",
    "    # Plot image with three masks: original, smoothed, refined\n",
    "    img = imgs[i].squeeze()\n",
    "    mask = ref_masks[i]\n",
    "\n",
    "    fig, axs = plt.subplots(1, 3, figsize=(12,)*2, tight_layout=True)\n",
    "\n",
    "    axs[0].imshow(img)\n",
    "    axs[0].contour(mask, levels=[0.5], colors='orange', linewidths=0.5, alpha=0.9)\n",
    "    axs[1].imshow(img * mask)\n",
    "    axs[2].imshow(img * (1 - mask))\n",
    "\n",
    "    for ax in axs:\n",
    "        ax.axis('off')\n",
    "\n",
    "    fig.show()\n"
   ]
  },
  {
   "cell_type": "markdown",
   "metadata": {},
   "source": [
    "Look at background statistics:"
   ]
  },
  {
   "cell_type": "code",
   "execution_count": null,
   "metadata": {},
   "outputs": [],
   "source": [
    "backgrounds = imgs * (1 - ref_masks)\n",
    "\n",
    "fig, axs = plt.subplots(1, 3, figsize=(16, 6), tight_layout=True)\n",
    "\n",
    "bin_max = 0.3\n",
    "bin_width = 0.01\n",
    "bins = np.arange(0, bin_max, bin_width)\n",
    "axs[0].hist(backgrounds.flatten(), bins=bins, label=\"Background Pixels\", density=True)\n",
    "# axs[0].set_yscale('log')\n",
    "axs[1].hist(backgrounds.mean(axis=(1, 2)), bins=50, label=\"Mean Background\")\n",
    "axs[2].hist(backgrounds.std(axis=(1, 2)), bins=50, label=\"Std. Background\")\n",
    "\n",
    "for ax in axs:\n",
    "    ax.legend()\n",
    "    ax.grid(alpha=0.3)\n",
    "\n",
    "fig.show()"
   ]
  },
  {
   "cell_type": "code",
   "execution_count": null,
   "metadata": {},
   "outputs": [],
   "source": [
    "# Cumulative distribution for background pixels, mean and std\n",
    "fig, axs = plt.subplots(1, 3, figsize=(16, 6), tight_layout=True)\n",
    "\n",
    "# Pixels\n",
    "bg = backgrounds.flatten()\n",
    "axs[0].hist(bg, bins=500, density=True, cumulative=True, histtype=\"step\")\n",
    "axs[0].set_xlabel(\"Background Pixels\")\n",
    "axs[0].set_ylabel(\"Cumulative Probability\")\n",
    "\n",
    "# Mean\n",
    "mean_bg = backgrounds.mean(axis=(1, 2))\n",
    "mean_bg = np.sort(mean_bg)\n",
    "n = len(mean_bg)\n",
    "axs[1].plot(mean_bg, np.linspace(0, 1, n))\n",
    "axs[1].set_xlabel(\"Mean Background\")\n",
    "\n",
    "# Std\n",
    "std_bg = backgrounds.std(axis=(1, 2))\n",
    "std_bg = np.sort(std_bg)\n",
    "n = len(std_bg)\n",
    "axs[2].plot(std_bg, np.linspace(0, 1, n))\n",
    "axs[2].set_xlabel(\"Std. Background\")\n",
    "\n",
    "for ax in axs:\n",
    "    ax.grid(alpha=0.3)\n",
    "\n",
    "fig.show()"
   ]
  },
  {
   "cell_type": "code",
   "execution_count": null,
   "metadata": {},
   "outputs": [],
   "source": [
    "from plotting.image_plots import metric_peek\n",
    "\n",
    "metric_peek(\n",
    "    backgrounds.mean(axis=(1, 2)),\n",
    "    np.linspace(0, 0.1, 6),\n",
    "    imgs,\n",
    "    metric_name=\"Mean Background\",\n",
    ")"
   ]
  },
  {
   "cell_type": "code",
   "execution_count": null,
   "metadata": {},
   "outputs": [],
   "source": [
    "bg_threshold = 0.02\n",
    "low_bg_idxs = np.nonzero(backgrounds.mean(axis=(1, 2)) < bg_threshold)[0]\n",
    "\n",
    "ii = np.random.choice(low_bg_idxs, 5, replace=False)\n",
    "\n",
    "for i in ii:\n",
    "    fig, axs = plt.subplots(1, 3, figsize=(18, 6), tight_layout=True)\n",
    "\n",
    "    axs[0].imshow(imgs[i])\n",
    "    axs[0].contour(ref_masks[i], colors=\"lime\", linewidths=0.3, alpha=0.7, levels=[0.5])\n",
    "    axs[1].imshow(imgs[i] * ref_masks[i])\n",
    "    axs[2].imshow(imgs[i] * (1 - ref_masks[i]))\n",
    "\n",
    "    for ax in axs:\n",
    "        ax.axis(\"off\")\n",
    "\n",
    "    fig.show()"
   ]
  },
  {
   "cell_type": "code",
   "execution_count": null,
   "metadata": {},
   "outputs": [],
   "source": [
    "from scipy.optimize import curve_fit\n",
    "\n",
    "\n",
    "def gaussian(x, s):\n",
    "    return 1 / (np.sqrt(2 * np.pi) * s) * np.exp(-(x**2) / (2 * np.pi * s**2))\n",
    "\n",
    "\n",
    "ii = np.random.choice(low_bg_idxs, 5, replace=False)\n",
    "\n",
    "for i in ii:\n",
    "    original_image = original_imgs[i].numpy()\n",
    "    mask = ref_masks[i]\n",
    "\n",
    "    fig, axs = plt.subplots(2, 2, figsize=(12, 12), tight_layout=True)\n",
    "\n",
    "    ax = axs[0][0]\n",
    "    bins = np.linspace(-1e-3, 1e-3, 100)\n",
    "\n",
    "    c, _, _ = ax.hist(\n",
    "        original_image.flatten(), bins=bins, label=\"Full Image\", histtype=\"step\"\n",
    "    )\n",
    "    a0 = c.max()\n",
    "    bg_pixels = original_image[mask == 0].flatten()\n",
    "    ax.hist(bg_pixels, bins=bins, label=\"Bg. Pixels\", histtype=\"step\")\n",
    "\n",
    "    # Fit a gaussian with zero mean and free variance and amplitude\n",
    "    y, x = np.histogram(original_image.flatten(), bins=bins, density=True)\n",
    "    x = (x[1:] + x[:-1]) / 2\n",
    "    x, y = x[25:-25], y[25:-25]\n",
    "    popt, pcov = curve_fit(gaussian, x, y, p0=[1e-5])\n",
    "\n",
    "    s = popt[0]\n",
    "    ax.plot(\n",
    "        x, np.sqrt(2 * np.pi) * s / a0 * gaussian(x, *popt), label=f\"Fit: s={s:.2e}\"\n",
    "    )\n",
    "    # Vertical lines at s, 2s, 3s, 5s with annotations on top\n",
    "    for mult in [1, 2, 3, 5]:\n",
    "        ax.axvline(s * mult, color=\"r\", linestyle=\"--\", linewidth=0.5)\n",
    "        ax.text(\n",
    "            s * mult, 0.9 * ax.get_ylim()[1], f\"{mult}σ\", color=\"r\", fontsize=\"small\"\n",
    "        )\n",
    "\n",
    "    ax = axs[0][1]\n",
    "    c, b, _ = ax.hist(\n",
    "        original_image.flatten(), bins=100, label=\"Full Image\", histtype=\"step\"\n",
    "    )\n",
    "    masked_pixels = original_image[mask == 1].flatten()\n",
    "    ax.hist(masked_pixels, bins=b, label=\"Masked Pixels\", histtype=\"step\")\n",
    "\n",
    "    for ax in axs[0]:\n",
    "        ax.legend()\n",
    "        ax.set_yscale(\"log\")\n",
    "        ax.grid(alpha=0.3)\n",
    "\n",
    "    ax = axs[1][0]\n",
    "    ax.imshow(original_image)\n",
    "    ax.contour(mask, colors=\"lime\", linewidths=0.3, alpha=0.7, levels=[0.5])\n",
    "\n",
    "    ax = axs[1][1]\n",
    "    ax.imshow(original_image * (1 - mask))\n",
    "\n",
    "    for ax in axs[1]:\n",
    "        ax.axis(\"off\")\n",
    "\n",
    "    fig.show()"
   ]
  },
  {
   "cell_type": "code",
   "execution_count": null,
   "metadata": {},
   "outputs": [],
   "source": [
    "# Cumulative distribution for background pixels, mean and std\n",
    "fig, axs = plt.subplots(1, 3, figsize=(16, 6), tight_layout=True)\n",
    "\n",
    "# Pixels\n",
    "bg = backgrounds[low_bg_idxs].flatten()\n",
    "axs[0].hist(bg, bins=500, density=True, cumulative=True, histtype=\"step\")\n",
    "axs[0].set_xlabel(\"Background Pixels\")\n",
    "axs[0].set_ylabel(\"Cumulative Probability\")\n",
    "\n",
    "# Mean\n",
    "mean_bg = backgrounds[low_bg_idxs].mean(axis=(1, 2))\n",
    "mean_bg = np.sort(mean_bg)\n",
    "n = len(mean_bg)\n",
    "axs[1].plot(mean_bg, np.linspace(0, 1, n))\n",
    "axs[1].set_xlabel(\"Mean Background\")\n",
    "\n",
    "# Std\n",
    "std_bg = backgrounds[low_bg_idxs].std(axis=(1, 2))\n",
    "std_bg = np.sort(std_bg)\n",
    "n = len(std_bg)\n",
    "axs[2].plot(std_bg, np.linspace(0, 1, n))\n",
    "axs[2].set_xlabel(\"Std. Background\")\n",
    "\n",
    "for ax in axs:\n",
    "    ax.grid(alpha=0.3)\n",
    "\n",
    "fig.suptitle(\"Selection: Bg. Mean < 0.02\", fontsize=\"xx-large\")\n",
    "\n",
    "fig.show()"
   ]
  },
  {
   "cell_type": "markdown",
   "metadata": {},
   "source": [
    "Plot images with ellipse etc."
   ]
  },
  {
   "cell_type": "code",
   "execution_count": null,
   "metadata": {},
   "outputs": [],
   "source": [
    "idx = idxs[2]\n",
    "\n",
    "img = mask_subset[idx].squeeze().numpy()\n",
    "bdsf_labels = mask_subset.island_labels[idx]\n",
    "mask = seg.smooth_mask(bdsf_labels)\n",
    "mask_dilated = ndimage.binary_dilation(mask, iterations=3)\n",
    "mask_refined = np.zeros_like(mask, dtype=int)\n",
    "labels = label(mask)\n",
    "\n",
    "fig, axs = plt.subplots(2, 3, figsize=(18, 12), tight_layout=True)\n",
    "axs[0][0].imshow(img)\n",
    "axs[0][1].imshow(img)\n",
    "axs[1][0].imshow(img)\n",
    "axs[1][1].imshow(img)\n",
    "axs[1][0].contour(mask_dilated, colors=\"lime\", linewidths=0.3, alpha=0.7, levels=[0.5])\n",
    "axs[0][2].imshow(img * mask)\n",
    "\n",
    "for region in regionprops(labels):\n",
    "\n",
    "    ax = axs[0][1]\n",
    "    region_mask = labels == region.label\n",
    "    ax.contour(region_mask, colors=\"cyan\", linewidths=0.3, alpha=0.7, levels=[0.5])\n",
    "\n",
    "    # Add cicrle\n",
    "    x, y, r = sc.make_circle(region.coords)\n",
    "    x, y, r = np.round(np.array([x, y, np.ceil(r)])).astype(int)\n",
    "    ax.add_patch(plt.Circle((y, x), r, color=\"r\", fill=False, linewidth=0.3, alpha=0.7))\n",
    "\n",
    "    # Add centroid\n",
    "    centroid = region.centroid\n",
    "    ax.scatter(\n",
    "        centroid[1], centroid[0], color=\"orange\", marker=\"x\", s=10, linewidths=0.5\n",
    "    )\n",
    "\n",
    "    # Add bounding box\n",
    "    minr, minc, maxr, maxc = region.bbox\n",
    "    rect = plt.Rectangle(\n",
    "        (minc, minr),\n",
    "        maxc - minc,\n",
    "        maxr - minr,\n",
    "        fill=False,\n",
    "        color=\"lime\",\n",
    "        linewidth=0.3,\n",
    "        alpha=1,\n",
    "    )\n",
    "    ax.add_patch(rect)\n",
    "\n",
    "    # Add ellipse\n",
    "    ell = Ellipse(\n",
    "        tuple(reversed(region.centroid)),\n",
    "        region.major_axis_length,\n",
    "        region.minor_axis_length,\n",
    "        angle=90 - region.orientation * 360 / (2 * np.pi),\n",
    "        fill=False,\n",
    "        color=\"magenta\",\n",
    "        linewidth=0.3,\n",
    "        alpha=0.7,\n",
    "    )\n",
    "    ax.add_patch(ell)\n",
    "\n",
    "    # Add scaled ellipse\n",
    "    c = 3\n",
    "    ell = Ellipse(\n",
    "        tuple(reversed(region.centroid)),\n",
    "        region.major_axis_length * 3,\n",
    "        region.minor_axis_length * 3,\n",
    "        angle=90 - region.orientation * 360 / (2 * np.pi),\n",
    "        fill=False,\n",
    "        color=\"yellow\",\n",
    "        linewidth=0.3,\n",
    "        alpha=0.7,\n",
    "    )\n",
    "    ax.add_patch(ell)\n",
    "\n",
    "    # Generate ellipse mask\n",
    "    c = 1\n",
    "    ell_mask = seg.elliptic_mask(\n",
    "        region,\n",
    "    )\n",
    "    ax.contour(ell_mask, colors=\"fuchsia\", linewidths=0.3, alpha=0.7, levels=[0.5])\n",
    "\n",
    "    ax.set_xlim(0, img.shape[1])\n",
    "    ax.set_ylim(img.shape[0], 0)"
   ]
  },
  {
   "cell_type": "markdown",
   "metadata": {},
   "source": [
    "## Mask Edge Threshold"
   ]
  },
  {
   "cell_type": "code",
   "execution_count": 4,
   "metadata": {},
   "outputs": [],
   "source": [
    "from scipy import ndimage\n",
    "from tqdm import tqdm\n",
    "import numpy as np\n",
    "import data.segment as seg\n",
    "\n",
    "reload(seg)\n",
    "\n",
    "\n",
    "# Number of islands in each image\n",
    "def count_islands(masks):\n",
    "    return np.array([ndimage.label(mask)[1] for mask in tqdm(masks)])\n",
    "\n",
    "\n",
    "def relative_edge_max_island(mask, img):\n",
    "    mx = (img * mask).max()\n",
    "    edge = img * seg.mask_edge(mask) / mx\n",
    "    return edge.max()\n",
    "\n",
    "\n",
    "def scaled_edge_mean_std(mask, img):\n",
    "    edge = img * seg.mask_edge(mask)\n",
    "    return edge.mean(), edge.std()\n",
    "\n",
    "def relative_edge_mean_std(mask, img):\n",
    "    mx = (img * mask).max()\n",
    "    edge = img * seg.mask_edge(mask) / mx\n",
    "    return edge.mean(), edge.std()\n",
    "\n",
    "def relative_edge_mean_std_img(mask, img):\n",
    "    labels, n = ndimage.label(mask, structure=np.ones((3, 3)))\n",
    "    return [\n",
    "        relative_edge_mean_std((labels == lbl).astype(int), img)\n",
    "        for lbl in range(1, n + 1)\n",
    "    ]\n",
    "\n",
    "def relative_edge_mean_std_imgs(masks, imgs):\n",
    "    return [\n",
    "        np.array(list(relative_edge_mean_std_img(mask, img)))\n",
    "        for mask, img in zip(tqdm(masks), imgs)\n",
    "    ]\n",
    "\n",
    "\n",
    "def relative_edge_max_img(mask, img):\n",
    "    labels, n = ndimage.label(mask, structure=np.ones((3, 3)))\n",
    "    return [\n",
    "        relative_edge_max_island((labels == lbl).astype(int), img)\n",
    "        for lbl in range(1, n + 1)\n",
    "    ]\n",
    "\n",
    "\n",
    "def relative_edge_max_imgs(masks, imgs):\n",
    "    return [\n",
    "        np.array(list(relative_edge_max_img(mask, img)))\n",
    "        for mask, img in zip(tqdm(masks), imgs)\n",
    "    ]\n",
    "\n",
    "\n",
    "def island_maxs_img(mask, img):\n",
    "    labels, n = ndimage.label(mask, structure=np.ones((3, 3)))\n",
    "    return np.array(\n",
    "        [(img * (labels == lbl).astype(int)).max() for lbl in range(1, n + 1)]\n",
    "    )\n",
    "\n",
    "\n",
    "def island_maxs_imgs(masks, imgs):\n",
    "    return [island_maxs_img(mask, img) for mask, img in zip(tqdm(masks), imgs)]"
   ]
  },
  {
   "cell_type": "code",
   "execution_count": 5,
   "metadata": {},
   "outputs": [
    {
     "name": "stderr",
     "output_type": "stream",
     "text": [
      "100%|██████████| 127559/127559 [04:12<00:00, 505.32it/s]\n"
     ]
    }
   ],
   "source": [
    "edge_mxs = relative_edge_max_imgs(masks, imgs)"
   ]
  },
  {
   "cell_type": "markdown",
   "metadata": {},
   "source": [
    "### Look at some distributions"
   ]
  },
  {
   "cell_type": "code",
   "execution_count": 11,
   "metadata": {},
   "outputs": [
    {
     "data": {
      "image/png": "[encoded data removed]",
      "text/plain": [
       "<Figure size 1200x600 with 1 Axes>"
      ]
     },
     "metadata": {},
     "output_type": "display_data"
    }
   ],
   "source": [
    "# Cumulative distribution of edge maxs.\n",
    "\n",
    "edge_mxs_flat = np.concatenate(edge_mxs)\n",
    "edge_mxs_flat_sorted = np.sort(edge_mxs_flat)\n",
    "\n",
    "fig, ax = plt.subplots(1, 1, tight_layout=True, figsize=(12, 6))\n",
    "\n",
    "ax.plot(\n",
    "    edge_mxs_flat_sorted, np.linspace(0, 1, len(edge_mxs_flat)), label=\"Edge Maxima\"\n",
    ")\n",
    "ax.axvline(\n",
    "    md := np.median(edge_mxs_flat_sorted),\n",
    "    color=\"r\",\n",
    "    label=f\"Median={md:.2e}\",\n",
    "    alpha=0.5,\n",
    "    ls=\"--\",\n",
    ")\n",
    "ax.axvline(0.05, color=\"g\", ls=\"--\", alpha=0.5, label='Selection Cut')\n",
    "\n",
    "ax.set_xlabel(\"Relative Edge Maxima\")\n",
    "ax.set_ylabel(\"Cumulative Distribution\")\n",
    "\n",
    "ax.grid(alpha=0.3)\n",
    "ax.legend()\n",
    "ax.set_xlim(left=0, right=0.1)\n",
    "ax.set_ylim(top=0.2, bottom=-0.002)\n",
    "# ax.set_xscale('log')\n",
    "\n",
    "\n",
    "fig.show()"
   ]
  },
  {
   "cell_type": "code",
   "execution_count": 6,
   "metadata": {},
   "outputs": [],
   "source": [
    "# Edge-max and RMS\n",
    "edge_mxmx = np.array([edge.max() for edge in edge_mxs])"
   ]
  },
  {
   "cell_type": "code",
   "execution_count": 7,
   "metadata": {},
   "outputs": [],
   "source": [
    "bg_stds = np.std(backgrounds_sc, axis=(1, 2))"
   ]
  },
  {
   "cell_type": "code",
   "execution_count": 9,
   "metadata": {},
   "outputs": [
    {
     "data": {
      "text/plain": [
       "((127559,), (127559,))"
      ]
     },
     "execution_count": 9,
     "metadata": {},
     "output_type": "execute_result"
    }
   ],
   "source": [
    "bg_stds.shape, edge_mxmx.shape"
   ]
  },
  {
   "cell_type": "code",
   "execution_count": 29,
   "metadata": {},
   "outputs": [
    {
     "data": {
      "text/plain": [
       "(-0.0005, 0.02)"
      ]
     },
     "execution_count": 29,
     "metadata": {},
     "output_type": "execute_result"
    },
    {
     "data": {
      "image/png": "[encoded data removed]",
      "text/plain": [
       "<Figure size 640x480 with 1 Axes>"
      ]
     },
     "metadata": {},
     "output_type": "display_data"
    }
   ],
   "source": [
    "plt.scatter(edge_mxmx, bg_stds, s=1, label=\"All Images\")\n",
    "#plt.yscale('log')\n",
    "\n",
    "# Plot identity\n",
    "x = np.linspace(0, 0.1, 100)\n",
    "plt.plot(x, 0.1 * x, color='r', label='0.1 * Identity')\n",
    "\n",
    "plt.xlabel('Mask Edge Max.')\n",
    "plt.ylabel('Background Std. Dev.')\n",
    "plt.axvline(0.05, color='g', ls='--', alpha=0.5, label='Selection Cut')\n",
    "plt.grid(alpha=0.3)\n",
    "plt.legend()\n",
    "plt.xlim(left=-0.005, right=0.1)\n",
    "plt.ylim(bottom=-0.0005, top=0.02)"
   ]
  },
  {
   "cell_type": "code",
   "execution_count": 11,
   "metadata": {},
   "outputs": [
    {
     "data": {
      "text/plain": [
       "(array([4.4646e+04, 3.1666e+04, 2.0985e+04, 1.3797e+04, 8.4630e+03,\n",
       "        4.4650e+03, 2.1910e+03, 8.7800e+02, 3.1600e+02, 1.1600e+02,\n",
       "        1.8000e+01, 5.0000e+00, 2.0000e+00, 1.0000e+00, 2.0000e+00,\n",
       "        1.0000e+00, 0.0000e+00, 1.0000e+00, 1.0000e+00, 0.0000e+00,\n",
       "        2.0000e+00, 1.0000e+00, 0.0000e+00, 0.0000e+00, 1.0000e+00,\n",
       "        0.0000e+00, 0.0000e+00, 0.0000e+00, 0.0000e+00, 0.0000e+00,\n",
       "        0.0000e+00, 0.0000e+00, 0.0000e+00, 0.0000e+00, 0.0000e+00,\n",
       "        0.0000e+00, 0.0000e+00, 0.0000e+00, 0.0000e+00, 0.0000e+00,\n",
       "        0.0000e+00, 0.0000e+00, 0.0000e+00, 0.0000e+00, 0.0000e+00,\n",
       "        0.0000e+00, 0.0000e+00, 0.0000e+00, 0.0000e+00, 1.0000e+00]),\n",
       " array([3.04856046e-05, 2.95786172e-03, 5.88523783e-03, 8.81261394e-03,\n",
       "        1.17399900e-02, 1.46673662e-02, 1.75947423e-02, 2.05221184e-02,\n",
       "        2.34494945e-02, 2.63768706e-02, 2.93042467e-02, 3.22316228e-02,\n",
       "        3.51589989e-02, 3.80863750e-02, 4.10137512e-02, 4.39411273e-02,\n",
       "        4.68685034e-02, 4.97958795e-02, 5.27232556e-02, 5.56506317e-02,\n",
       "        5.85780078e-02, 6.15053839e-02, 6.44327600e-02, 6.73601361e-02,\n",
       "        7.02875123e-02, 7.32148884e-02, 7.61422645e-02, 7.90696406e-02,\n",
       "        8.19970167e-02, 8.49243928e-02, 8.78517689e-02, 9.07791450e-02,\n",
       "        9.37065211e-02, 9.66338973e-02, 9.95612734e-02, 1.02488649e-01,\n",
       "        1.05416026e-01, 1.08343402e-01, 1.11270778e-01, 1.14198154e-01,\n",
       "        1.17125530e-01, 1.20052906e-01, 1.22980282e-01, 1.25907658e-01,\n",
       "        1.28835034e-01, 1.31762411e-01, 1.34689787e-01, 1.37617163e-01,\n",
       "        1.40544539e-01, 1.43471915e-01, 1.46399291e-01]),\n",
       " <BarContainer object of 50 artists>)"
      ]
     },
     "execution_count": 11,
     "metadata": {},
     "output_type": "execute_result"
    },
    {
     "data": {
      "image/png": "[encoded data removed]",
      "text/plain": [
       "<Figure size 640x480 with 1 Axes>"
      ]
     },
     "metadata": {},
     "output_type": "display_data"
    }
   ],
   "source": [
    "plt.hist(bg_stds, bins=50, alpha=0.5, label='Background Std')"
   ]
  },
  {
   "cell_type": "markdown",
   "metadata": {},
   "source": [
    "### Do selection"
   ]
  },
  {
   "cell_type": "code",
   "execution_count": null,
   "metadata": {},
   "outputs": [],
   "source": [
    "from tqdm import tqdm\n",
    "\n",
    "masks_edge_thr = np.copy(masks)  # [rms_selection_idxs]\n",
    "empty_masks_flag = masks_edge_thr.sum(axis=(-1, -2)).flatten() == 0\n",
    "\n",
    "# Remove masks for which the relative edge maximum is above a threshold\n",
    "edge_max_threshold = 0.05\n",
    "mask_flags = [edge_mx > edge_max_threshold for edge_mx in edge_mxs]\n",
    "mask_cut = np.array([m.all() for m in mask_flags]) | empty_masks_flag\n",
    "mask_pass = np.array([(~m).all() for m in mask_flags]) & ~empty_masks_flag\n",
    "\n",
    "for i in tqdm(np.nonzero(~mask_pass & ~mask_cut)[0]):\n",
    "    mask = masks_edge_thr[i]\n",
    "    flag = mask_flags[i]\n",
    "    labels, n = ndimage.label(mask, structure=np.ones((3, 3)))\n",
    "    for lbl in range(1, n + 1):\n",
    "        if flag[lbl - 1]:\n",
    "            mask[labels == lbl] = 0\n",
    "\n",
    "    masks_edge_thr[i] = mask\n",
    "\n",
    "# idxs_edge_thr = rms_selection_idxs[~mask_cut]\n",
    "idxs_edge_thr = np.nonzero(~mask_cut)[0]"
   ]
  },
  {
   "cell_type": "code",
   "execution_count": null,
   "metadata": {},
   "outputs": [],
   "source": [
    "print(mask_cut.sum(), mask_pass.sum(),  mask_cut.sum() - mask_pass.sum(), len(idxs_edge_thr))\n",
    "print((mask_cut & empty_masks_flag).sum(), empty_masks_flag.sum())"
   ]
  },
  {
   "cell_type": "code",
   "execution_count": null,
   "metadata": {},
   "outputs": [],
   "source": [
    "imgs_sel = imgs[idxs_edge_thr]\n",
    "imgs_sc_sel = imgs_sc[idxs_edge_thr]\n",
    "masks_sel = masks_edge_thr[idxs_edge_thr]\n",
    "\n",
    "masks_sel.shape, idxs_edge_thr.shape, masks_edge_thr.shape"
   ]
  },
  {
   "cell_type": "code",
   "execution_count": null,
   "metadata": {},
   "outputs": [],
   "source": [
    "import h5py\n",
    "\n",
    "with h5py.File(dset.path, \"r+\") as f:\n",
    "    f[\"masks_edge_thr\"][:] = masks_edge_thr"
   ]
  },
  {
   "cell_type": "code",
   "execution_count": null,
   "metadata": {},
   "outputs": [],
   "source": [
    "# Plot some examples\n",
    "ii = np.random.choice(len(idxs_edge_thr), 10, replace=False)\n",
    "\n",
    "# ii = np.random.choice(np.nonzero(mask_cut)[0], 10, replace=False)\n",
    "\n",
    "for i in ii:\n",
    "    fig, axs = plt.subplots(1, 3, tight_layout=True, figsize=(18, 6))\n",
    "    img = imgs[idxs_edge_thr[i]]\n",
    "    mask = masks_edge_thr[idxs_edge_thr[i]]\n",
    "\n",
    "    axs[0].imshow(img)\n",
    "    axs[1].imshow(img * mask)\n",
    "    axs[1].set_title(f\"Edge Maxima: {edge_mxs[i]}\")\n",
    "    axs[2].imshow(img * (1 - mask))\n",
    "\n",
    "    for ax in axs:\n",
    "        ax.axis(\"off\")\n",
    "    plt.show()"
   ]
  },
  {
   "cell_type": "code",
   "execution_count": null,
   "metadata": {},
   "outputs": [],
   "source": [
    "dset.save_selection(idxs_edge_thr, 'clean_mask', override=True)"
   ]
  },
  {
   "cell_type": "code",
   "execution_count": null,
   "metadata": {},
   "outputs": [],
   "source": [
    "reload(data.datasets)\n",
    "from data.datasets import LOFARDataset\n",
    "\n",
    "dset_sel = LOFARDataset(\n",
    "    paths.LOFAR_SUBSETS[\"200p\"], img_size=200, selection='clean_mask',\n",
    "    attributes=['masks_edge_thr'], train_mode=False\n",
    ")"
   ]
  },
  {
   "cell_type": "code",
   "execution_count": null,
   "metadata": {},
   "outputs": [],
   "source": [
    "dset_sel.set_train_mode(False)"
   ]
  },
  {
   "cell_type": "code",
   "execution_count": null,
   "metadata": {},
   "outputs": [],
   "source": [
    "len(dset_sel)"
   ]
  },
  {
   "cell_type": "code",
   "execution_count": null,
   "metadata": {},
   "outputs": [],
   "source": [
    "dset_sel.masks = dset_sel.masks_edge_thr\n",
    "dset_sel.plot_image_grid(n_imgs=49, show_titles=True);"
   ]
  },
  {
   "cell_type": "code",
   "execution_count": null,
   "metadata": {},
   "outputs": [],
   "source": [
    "from pprint import pprint\n",
    "\n",
    "n_islands = count_islands(masks[idxs_edge_thr])\n",
    "pprint({n: (n_islands == n).sum() for n in np.unique(n_islands)})"
   ]
  },
  {
   "cell_type": "code",
   "execution_count": null,
   "metadata": {},
   "outputs": [],
   "source": [
    "idxs_edge_thr_single = idxs_edge_thr[n_islands == 1]\n",
    "len(idxs_edge_thr_single)"
   ]
  },
  {
   "cell_type": "code",
   "execution_count": null,
   "metadata": {},
   "outputs": [],
   "source": [
    "dset.save_selection(idxs_edge_thr_single, 'clean_mask_single_island', override=True)"
   ]
  },
  {
   "cell_type": "code",
   "execution_count": null,
   "metadata": {},
   "outputs": [],
   "source": [
    "reload(seg)\n",
    "\n",
    "imgs_selected = imgs[idxs_edge_thr][n_islands == 1]\n",
    "masks_selected = masks_edge_thr[n_islands == 1]\n",
    "\n",
    "circles = np.array([seg.get_circle(m) for m in tqdm(masks_selected)])"
   ]
  },
  {
   "cell_type": "code",
   "execution_count": null,
   "metadata": {},
   "outputs": [],
   "source": [
    "radii = circles[:, 2]\n",
    "\n",
    "# Cumulative distribution\n",
    "radii_sorted = np.sort(radii)\n",
    "plt.plot(radii_sorted, np.linspace(0, 1, len(radii)))\n",
    "\n",
    "plt.grid(alpha=0.3)"
   ]
  },
  {
   "cell_type": "code",
   "execution_count": null,
   "metadata": {},
   "outputs": [],
   "source": [
    "metric_peek(\n",
    "    radii,\n",
    "    np.linspace(40, 80, 6),\n",
    "    imgs_selected * masks_selected,\n",
    ")"
   ]
  },
  {
   "cell_type": "code",
   "execution_count": null,
   "metadata": {},
   "outputs": [],
   "source": [
    "from matplotlib.patches import Circle\n",
    "\n",
    "ii = np.random.choice(np.nonzero((radii > 80) & (radii <= 150))[0], 20, replace=False)\n",
    "\n",
    "for i in ii:\n",
    "    fig, axs = plt.subplots(1, 3, tight_layout=True, figsize=(18, 6))\n",
    "    img = imgs_selected[i]\n",
    "    mask = masks_selected[i]\n",
    "    x, y, r = circles[i]\n",
    "\n",
    "    axs[0].imshow(img)\n",
    "    axs[1].imshow(img * mask)\n",
    "    axs[1].add_patch(Circle((x, y), radius=r, color=\"r\", fill=False, lw=1, alpha=0.5))\n",
    "    axs[2].imshow(img * (1 - mask))\n",
    "\n",
    "    for ax in axs:\n",
    "        ax.axis(\"off\")\n",
    "    plt.show()"
   ]
  },
  {
   "cell_type": "code",
   "execution_count": null,
   "metadata": {},
   "outputs": [],
   "source": [
    "mask_fraction = masks.sum(axis=(-1, -2)) / (masks.shape[-1] * masks.shape[-2])\n",
    "\n",
    "\n",
    "fig, axs = plt.subplots(1, 2, tight_layout=True, figsize=(12, 6))\n",
    "\n",
    "ax = axs[0]\n",
    "ax.hist(mask_fraction, bins=10, label=\"Mask Fraction\")\n",
    "ax.set_yscale(\"log\")\n",
    "\n",
    "ax = axs[1]\n",
    "sort_idxs = np.argsort(mask_fraction)\n",
    "mask_fraction_sorted = mask_fraction[sort_idxs]\n",
    "ax.plot(mask_fraction_sorted, np.linspace(0, 1, len(mask_fraction_sorted)))\n",
    "ax.set_xscale(\"log\")\n",
    "\n",
    "for ax in axs:\n",
    "    ax.grid(alpha=0.3)\n",
    "    ax.legend()"
   ]
  },
  {
   "cell_type": "code",
   "execution_count": null,
   "metadata": {},
   "outputs": [],
   "source": [
    "selection = (mask_fraction > 0.01) & (bg_rms / src_rms < 2e-2)\n",
    "n = selection.sum()\n",
    "print(f\"Selected {n} images ({n / len(selection)*100:.2f}%)\")\n",
    "\n",
    "idxs = np.random.choice(np.where(selection)[0], 20, replace=False)\n",
    "\n",
    "for i in idxs:\n",
    "    fig, axs = plt.subplots(1, 3, tight_layout=True, figsize=(9, 3))\n",
    "\n",
    "    ax = axs[0]\n",
    "    ax.imshow(imgs[i])\n",
    "    ax.axis(\"off\")\n",
    "\n",
    "    ax = axs[1]\n",
    "    ax.imshow(sources_sc[i])\n",
    "    ax.axis(\"off\")\n",
    "\n",
    "    ax = axs[2]\n",
    "    ax.imshow(backgrounds_sc[i])\n",
    "    ax.axis(\"off\")\n",
    "\n",
    "    plt.show()"
   ]
  },
  {
   "cell_type": "markdown",
   "metadata": {},
   "source": [
    "## Source Coordinate Identification"
   ]
  },
  {
   "cell_type": "code",
   "execution_count": null,
   "metadata": {},
   "outputs": [],
   "source": [
    "import utils.paths as paths\n",
    "import data.datasets\n",
    "\n",
    "reload(data.datasets)\n",
    "from data.datasets import LOFARDataset\n",
    "\n",
    "import data.segment as seg\n",
    "\n",
    "reload(seg)\n",
    "\n",
    "# Load Dataset\n",
    "dset = LOFARDataset(\n",
    "    paths.LOFAR_SUBSETS[\"200p\"], img_size=200, load_catalog=True,\n",
    "    selection='clean_mask_single_island', train_mode=False,\n",
    "    attributes=['masks_edge_thr']\n",
    ")\n",
    "print(len(dset))"
   ]
  },
  {
   "cell_type": "code",
   "execution_count": null,
   "metadata": {},
   "outputs": [],
   "source": [
    "import data.transforms as T\n",
    "\n",
    "reload(T)\n",
    "import numpy as np\n",
    "import numpy.ma as ma\n",
    "\n",
    "dset.masks = dset.masks_edge_thr\n",
    "\n",
    "# Get data from dset\n",
    "imgs = dset.data.numpy()\n",
    "imgs_sc = T.max_scale_batch(dset.data).numpy()\n",
    "masks = dset.masks.numpy()\n",
    "\n",
    "# Apply masks (True indicates invalid data)\n",
    "sources_sc = ma.masked_array(imgs_sc, mask=(masks == 0))\n",
    "backgrounds_sc = ma.masked_array(imgs_sc, mask=(masks == 1))"
   ]
  },
  {
   "cell_type": "code",
   "execution_count": null,
   "metadata": {},
   "outputs": [],
   "source": [
    "import pandas as pd\n",
    "import numpy as np\n",
    "from astropy.wcs import WCS\n",
    "from tqdm import tqdm\n",
    "\n",
    "cat = pd.read_csv(paths.LOFAR_RES_CAT)\n",
    "\n",
    "def read_separations(df, source_id):\n",
    "    # Two series with same index\n",
    "    col = df[source_id].drop(source_id)\n",
    "    row = df.loc[source_id].drop(source_id)\n",
    "\n",
    "    # Combine the two series\n",
    "    comb = pd.concat([col[pd.notna(col)], row[pd.notna(row)]])\n",
    "    return comb\n",
    "\n",
    "\n",
    "def contaminating_sources(idx, dset):\n",
    "    mosaic_id = dset.catalog.Mosaic_ID.values[idx]\n",
    "    source_id = dset.names[idx]\n",
    "    max_sep = 1.5 * dset.data.shape[-1] // 2 / 3600\n",
    "\n",
    "    matches = []\n",
    "\n",
    "    for coord in [\"ra\", \"dec\"]:\n",
    "        df = pd.read_csv(\n",
    "            paths.LOFAR_DATA_PARENT\n",
    "            / f\"source_separations/{mosaic_id}/source_delta_{coord}_{mosaic_id}.csv\",\n",
    "            index_col=0,\n",
    "        )\n",
    "        sep = read_separations(df, source_id)\n",
    "        matches.append(sep[np.abs(sep.values) < max_sep].index.tolist())\n",
    "\n",
    "    # Remove duplicates from output\n",
    "    out = [src for src in matches[0] if src in matches[1]]\n",
    "    return out\n",
    "\n",
    "\n",
    "def get_coordinates(src_names, catalog=cat):\n",
    "    out = []\n",
    "    for name in src_names:\n",
    "        src = catalog[catalog[\"Source_Name\"] == name].iloc[0]\n",
    "        if pd.notna(src[\"optRA\"]):\n",
    "            ra, dec = src[\"optRA\"], src[\"optDec\"]\n",
    "        else:\n",
    "            ra, dec = src[\"RA\"], src[\"DEC\"]\n",
    "        out.append([ra, dec])\n",
    "    return np.array(out)\n",
    "\n",
    "\n",
    "def create_wcs(i, dset):\n",
    "    center = get_coordinates([dset.names[i]])[0]\n",
    "    cdelt = 1.5 / 3600\n",
    "    wcs_params = {\n",
    "        \"CTYPE1\": \"RA---SIN\",  # RA in TAN projection\n",
    "        \"CTYPE2\": \"DEC--SIN\",  # Dec in TAN projection\n",
    "        \"CRVAL1\": center[0],  # RA at reference pixel\n",
    "        \"CRVAL2\": center[1],  # Dec at reference pixel\n",
    "        \"CUNIT1\": \"deg\",\n",
    "        \"CUNIT2\": \"deg\",\n",
    "        \"CRPIX1\": 100,  # Reference pixel X (center of the image)\n",
    "        \"CRPIX2\": 100,  # Reference pixel Y (center of the image)\n",
    "        \"CDELT1\": -cdelt,  # Pixel scale in RA (degrees/pixel)\n",
    "        \"CDELT2\": cdelt,  # Pixel scale in Dec (degrees/pixel)\n",
    "        \"RADESYS\": \"ICRS\",\n",
    "    }\n",
    "    w = WCS(naxis=2)\n",
    "    w.wcs.crpix = [wcs_params[\"CRPIX1\"], wcs_params[\"CRPIX2\"]]\n",
    "    w.wcs.cdelt = np.array([wcs_params[\"CDELT1\"], wcs_params[\"CDELT2\"]])\n",
    "    w.wcs.crval = [wcs_params[\"CRVAL1\"], wcs_params[\"CRVAL2\"]]\n",
    "    w.wcs.ctype = [wcs_params[\"CTYPE1\"], wcs_params[\"CTYPE2\"]]\n",
    "    w.wcs.radesys = wcs_params[\"RADESYS\"]\n",
    "    w.wcs.cunit = [wcs_params[\"CUNIT1\"], wcs_params[\"CUNIT2\"]]\n",
    "    return w"
   ]
  },
  {
   "cell_type": "code",
   "execution_count": null,
   "metadata": {},
   "outputs": [],
   "source": [
    "# Sanity Check\n",
    "ii = np.random.choice(len(dset), 10, replace=False)\n",
    "\n",
    "for i in ii:\n",
    "    img = dset.data[i]\n",
    "    mask = dset.masks[i]\n",
    "    sources = contaminating_sources(i, dset)\n",
    "    coords = get_coordinates(sources)\n",
    "    center = get_coordinates([dset.names[i]])[0]\n",
    "    wcs = create_wcs(i, dset)\n",
    "\n",
    "    fig, axs = plt.subplots(1, 2, figsize=(10, 5), subplot_kw={\"projection\": wcs})\n",
    "\n",
    "    axs[0].imshow(img, origin=\"lower\")\n",
    "    axs[1].imshow(img * (1 - mask), origin=\"lower\")\n",
    "\n",
    "    for ax in axs:\n",
    "        ax.contour(mask, levels=[0.5], colors=\"white\", alpha=0.5)\n",
    "        ax.scatter(\n",
    "            center[0],\n",
    "            center[1],\n",
    "            transform=ax.get_transform(\"world\"),\n",
    "            s=30,\n",
    "            color=\"orange\",\n",
    "            marker=\"x\",\n",
    "            alpha=0.5,\n",
    "        )\n",
    "        if len(coords) > 0:\n",
    "            ax.scatter(\n",
    "                coords[:, 0],\n",
    "                coords[:, 1],\n",
    "                transform=ax.get_transform(\"world\"),\n",
    "                s=30,\n",
    "                color=\"red\",\n",
    "                marker=\"x\",\n",
    "                alpha=0.5,\n",
    "            )\n",
    "\n",
    "    fig.show()"
   ]
  },
  {
   "cell_type": "code",
   "execution_count": null,
   "metadata": {},
   "outputs": [],
   "source": [
    "from tqdm import tqdm\n",
    "from scipy.ndimage import binary_dilation\n",
    "import concurrent.futures\n",
    "from concurrent.futures import ThreadPoolExecutor, ProcessPoolExecutor\n",
    "\n",
    "\n",
    "def source_profile(i, dilate=0):\n",
    "    mask = masks[i]\n",
    "    if dilate > 0:\n",
    "        mask = binary_dilation(mask, iterations=dilate)\n",
    "    wcs = create_wcs(i, dset)\n",
    "    cont_src = contaminating_sources(i, dset)\n",
    "    cont_coords = get_coordinates(cont_src)\n",
    "    cont_locs = np.round(wcs.all_world2pix(cont_coords, 0)).astype(int)\n",
    "    guests_on_mask = []\n",
    "    for j in range(len(cont_src)):\n",
    "        if mask[cont_locs[j, 1], cont_locs[j, 0]] == 1:\n",
    "            guests_on_mask.append(cont_src[j])\n",
    "    \n",
    "    host_on_mask = mask[100, 100].astype(bool)\n",
    "    return i, host_on_mask, guests_on_mask\n",
    "\n",
    "\n",
    "def get_profiles(dataset, dilate=0):\n",
    "    num_sources = len(dataset)\n",
    "    results = []\n",
    "\n",
    "    with ProcessPoolExecutor(max_workers=16) as executor:\n",
    "        futures = [executor.submit(source_profile, i, dilate=dilate) for i in range(num_sources)]\n",
    "        for future in tqdm(concurrent.futures.as_completed(futures), total=num_sources):\n",
    "            results.append(future.result())\n",
    "\n",
    "    return results\n",
    "\n",
    "def plot_image_with_sources(i, dset):\n",
    "    img = dset.data[i]\n",
    "    mask = dset.masks[i]\n",
    "    sources = contaminating_sources(i, dset)\n",
    "    coords = get_coordinates(sources)\n",
    "    center = get_coordinates([dset.names[i]])[0]\n",
    "    wcs = create_wcs(i, dset)\n",
    "\n",
    "    fig, axs = plt.subplots(1, 2, figsize=(10, 5), subplot_kw={\"projection\": wcs})\n",
    "\n",
    "    axs[0].imshow(img, origin=\"lower\")\n",
    "    axs[1].imshow(img * (1 - mask), origin=\"lower\")\n",
    "\n",
    "    for ax in axs:\n",
    "        ax.contour(mask, levels=[0.5], colors=\"white\", alpha=0.5)\n",
    "        ax.scatter(\n",
    "            center[0],\n",
    "            center[1],\n",
    "            transform=ax.get_transform(\"world\"),\n",
    "            s=30,\n",
    "            color=\"orange\",\n",
    "            marker=\"x\",\n",
    "            alpha=0.5,\n",
    "        )\n",
    "        if len(coords) > 0:\n",
    "            ax.scatter(\n",
    "                coords[:, 0],\n",
    "                coords[:, 1],\n",
    "                transform=ax.get_transform(\"world\"),\n",
    "                s=30,\n",
    "                color=\"red\",\n",
    "                marker=\"x\",\n",
    "                alpha=0.5,\n",
    "            )\n",
    "\n",
    "    return fig, axs\n"
   ]
  },
  {
   "cell_type": "code",
   "execution_count": null,
   "metadata": {},
   "outputs": [],
   "source": [
    "profiles = get_profiles(dset)"
   ]
  },
  {
   "cell_type": "code",
   "execution_count": null,
   "metadata": {},
   "outputs": [],
   "source": [
    "# Profiles are tuples of (index, host_on_mask, guests_on_mask), \n",
    "# here we extract the information into separate arrays and sort by index\n",
    "profile_idxs = np.array([p[0] for p in profiles])\n",
    "sort_idxs = np.argsort(profile_idxs)\n",
    "hosts = np.array([p[1] for p in profiles])[sort_idxs]\n",
    "guests = [profiles[i][2] for i in sort_idxs]\n",
    "\n",
    "n_guests = np.array([len(g) for g in guests])\n",
    "src_on_isl = n_guests + hosts.astype(int)"
   ]
  },
  {
   "cell_type": "code",
   "execution_count": null,
   "metadata": {},
   "outputs": [],
   "source": [
    "np.argwhere(src_on_isl > 1).shape"
   ]
  },
  {
   "cell_type": "code",
   "execution_count": null,
   "metadata": {},
   "outputs": [],
   "source": [
    "# Sanity check\n",
    "ii = np.random.choice(np.argwhere(hosts).flatten(), 10, replace=False)\n",
    "\n",
    "for i in ii:\n",
    "\n",
    "    img = dset.data[i]\n",
    "    mask = dset.masks[i]\n",
    "    host, gg = hosts[i], guests[i]\n",
    "    wcs = create_wcs(i, dset)\n",
    "\n",
    "    cont_mask = np.zeros_like(mask)\n",
    "    cont_src = contaminating_sources(i, dset)\n",
    "    cont_coords = get_coordinates(cont_src)\n",
    "    if len(cont_coords) > 0:\n",
    "        cont_locs = np.round(wcs.all_world2pix(cont_coords, 0)).astype(int)\n",
    "        cont_mask[cont_locs[:, 1], cont_locs[:, 0]] = 1\n",
    "    \n",
    "    fig, axs = plt.subplots(1, 2, figsize=(16, 8), subplot_kw={'projection': wcs})\n",
    "\n",
    "    ax = axs[0]\n",
    "    # Plot image with mask\n",
    "    ax.imshow(img, origin='lower')\n",
    "    ax.contour(mask, levels=[0.5], colors='w', linewidths=0.5)\n",
    "\n",
    "    # Scatter plot of contaminating sources\n",
    "    if len(cont_coords) > 0:\n",
    "        ax.scatter(*wcs.all_world2pix(cont_coords, 0).T, marker='x', color='r', s=100)\n",
    "\n",
    "    # Mark host\n",
    "    coords = get_coordinates([dset.names[i]])[0]\n",
    "    ax.scatter(*wcs.all_world2pix([coords], 0).T, marker='x', color='orange')\n",
    "\n",
    "    ax.set_title(f\"Index {i} - {dset.names[i]}\\nHost on mask: {host}\\nGuests on mask: {gg}\")\n",
    "\n",
    "    ax = axs[1]\n",
    "    # plt.imshow(cont_mask, origin='lower')\n",
    "    plt.imshow(img * (1 - mask), origin='lower')\n",
    "    \n",
    "    plt.show()\n",
    "\n",
    "\n"
   ]
  },
  {
   "cell_type": "code",
   "execution_count": null,
   "metadata": {},
   "outputs": [],
   "source": [
    "n, c = np.unique(n_guests, return_counts=True)\n",
    "print(\"Guests on island:\")\n",
    "print([f\"{n[i]}: {c[i]}\" for i in range(len(n))])\n",
    "\n",
    "n, c = np.unique(src_on_isl, return_counts=True)\n",
    "print(\"Total sources on island:\")\n",
    "print([f\"{n[i]}: {c[i]}\" for i in range(len(n))])\n",
    "\n",
    "print(\"Number of multiples:\")\n",
    "print(np.sum(src_on_isl > 1))"
   ]
  },
  {
   "cell_type": "code",
   "execution_count": null,
   "metadata": {},
   "outputs": [],
   "source": [
    "i_ghosts = np.argwhere(src_on_isl == 0).flatten()\n",
    "i_singles = np.argwhere(src_on_isl == 1).flatten()\n",
    "i_guest_singles = np.argwhere((n_guests == 1) & (~hosts)).flatten()"
   ]
  },
  {
   "cell_type": "code",
   "execution_count": null,
   "metadata": {},
   "outputs": [],
   "source": [
    "# Sanity Check\n",
    "for i in np.random.choice(i_guest_singles, 10, replace=False):\n",
    "    fig, _ = plot_image_with_sources(i, dset)\n",
    "    fig.show()\n"
   ]
  },
  {
   "cell_type": "markdown",
   "metadata": {},
   "source": [
    "### Catalogize True Singles"
   ]
  },
  {
   "cell_type": "code",
   "execution_count": null,
   "metadata": {},
   "outputs": [],
   "source": [
    "# The names of the singles are either the host or the guest\n",
    "true_singles = [\n",
    "    dset.names[i] if hosts[i] else guests[i][0] for i in i_singles\n",
    "]\n",
    "unique_true_singles, unique_inverse = np.unique(true_singles, return_inverse=True)\n",
    "\n",
    "# Indices of all images in the dset where the unique singles appear \n",
    "i_appearances_single = [\n",
    "    i_singles[np.nonzero(unique_inverse == i)[0]] for i in range(len(unique_true_singles))\n",
    "]\n",
    "\n",
    "# Boolean flag indicating if the source is listed in the catalog\n",
    "is_listed = np.array([s in set(dset.names) for s in tqdm(unique_true_singles)])\n",
    "\n",
    "# See if the source is masked on its home image, if existing\n",
    "home_app = np.array([\n",
    "    hosts[np.argwhere(dset.names == name).flatten()[0]] if is_listed[j] else False\n",
    "    for j, name in tqdm(enumerate(unique_true_singles), total=len(unique_true_singles))\n",
    "])"
   ]
  },
  {
   "cell_type": "code",
   "execution_count": null,
   "metadata": {},
   "outputs": [],
   "source": [
    "true_singles_df = pd.DataFrame({\n",
    "    \"Source\": unique_true_singles,\n",
    "    \"Listed\": is_listed,\n",
    "    \"Home_Appearance\": home_app,\n",
    "    \"Appearances\": i_appearances_single\n",
    "})"
   ]
  },
  {
   "cell_type": "code",
   "execution_count": null,
   "metadata": {},
   "outputs": [],
   "source": [
    "corresponding_images = np.full_like(true_singles_df.Source.values, -1, dtype=int)\n",
    "\n",
    "# For Normies (Listed & Home App.), take the home image, i.e. index where the source is listed\n",
    "normie_flag = is_listed & home_app\n",
    "corresponding_images[normie_flag] = [\n",
    "    np.argwhere(dset.names == name).flatten()[0] for name in tqdm(true_singles_df.Source.values[normie_flag])\n",
    "]\n",
    "\n",
    "# For all others, take the one that is most centered \n",
    "from skimage.measure import centroid\n",
    "\n",
    "for k in np.nonzero(~normie_flag)[0]:\n",
    "    idxs = true_singles_df.Appearances.values[k]\n",
    "    i_center = np.argmin([np.linalg.norm(centroid(masks[i]) - 100) for i in idxs])\n",
    "    corresponding_images[k] = idxs[i_center]\n",
    "\n",
    "true_singles_df[\"Corresponding_Image\"] = corresponding_images"
   ]
  },
  {
   "cell_type": "code",
   "execution_count": null,
   "metadata": {},
   "outputs": [],
   "source": [
    "# For the selected images, check if any mask touches the image edge\n",
    "def touches_edge(mask):\n",
    "    return np.any([mask[0, :], mask[-1, :], mask[:, 0], mask[:, -1]])\n",
    "\n",
    "edge_touch = np.array([\n",
    "    np.any(touches_edge(dset.masks[i])) for i in tqdm(true_singles_df['Corresponding_Image'].values)\n",
    "])\n",
    "\n",
    "df_edge_touch = true_singles_df[edge_touch]\n",
    "true_singles_df = true_singles_df[~edge_touch]"
   ]
  },
  {
   "cell_type": "code",
   "execution_count": null,
   "metadata": {},
   "outputs": [],
   "source": [
    "len(true_singles_df), len(df_edge_touch)"
   ]
  },
  {
   "cell_type": "code",
   "execution_count": null,
   "metadata": {},
   "outputs": [],
   "source": [
    "# Plot some examples\n",
    "for i in np.random.choice(df_edge_touch['Corresponding_Image'].values, 10, replace=False):\n",
    "    fig, _ = plot_image_with_sources(i, dset)\n",
    "    fig.show()"
   ]
  },
  {
   "cell_type": "code",
   "execution_count": null,
   "metadata": {},
   "outputs": [],
   "source": [
    "from data.segment import get_circle\n",
    "\n",
    "def center_source(img, mask):\n",
    "    x, y, r = get_circle(mask)\n",
    "\n",
    "    # Return new image and mask, translated so that x, y is at center\n",
    "    img_c = np.zeros_like(img)\n",
    "    mask_c = np.zeros_like(mask)\n",
    "    mask_coords = np.flip(np.argwhere(mask), axis=1)\n",
    "    mask_coords_c = mask_coords - [x, y] + 100\n",
    "    mask_c[mask_coords_c[:, 1], mask_coords_c[:, 0]] = 1\n",
    "    img_c[mask_coords_c[:, 1], mask_coords_c[:, 0]] = img[mask_coords[:, 1], mask_coords[:, 0]]\n",
    "    return img_c, mask_c, r"
   ]
  },
  {
   "cell_type": "code",
   "execution_count": null,
   "metadata": {},
   "outputs": [],
   "source": [
    "center_srcs = [center_source(imgs_sc[i], masks[i]) for i in tqdm(true_singles_df['Corresponding_Image'].values)]\n",
    "true_singles_df['Host_Source'] = dset.names[true_singles_df['Corresponding_Image'].values]"
   ]
  },
  {
   "cell_type": "code",
   "execution_count": null,
   "metadata": {},
   "outputs": [],
   "source": [
    "import data.transforms as T\n",
    "\n",
    "proto_imgs = np.array([c[0] for c in center_srcs])\n",
    "proto_imgs = T.max_scale_batch(model_imgs)\n",
    "proto_masks = np.array([c[1] for c in center_srcs])\n",
    "proto_radii = np.array([c[2] for c in center_srcs])\n",
    "\n",
    "true_singles_df['Model_Radius'] = proto_radii\n",
    "true_singles_df['Host_Source'] = dset.names[true_singles_df['Corresponding_Image'].values]\n",
    "true_singles_df.reset_index(drop=True, inplace=True)"
   ]
  },
  {
   "cell_type": "code",
   "execution_count": null,
   "metadata": {},
   "outputs": [],
   "source": [
    "true_singles_df"
   ]
  },
  {
   "cell_type": "code",
   "execution_count": null,
   "metadata": {},
   "outputs": [],
   "source": [
    "np.argwhere(true_singles_df.Model_Radius > 60).flatten()"
   ]
  },
  {
   "cell_type": "code",
   "execution_count": null,
   "metadata": {},
   "outputs": [],
   "source": [
    "from matplotlib.patches import Circle\n",
    "# Plot random examples\n",
    "\n",
    "# ii = np.random.choice(np.argwhere(true_singles_df.Model_Radius > 60).flatten(), 10, replace=False)\n",
    "ii = np.random.choice(len(true_singles_df), 10, replace=False)\n",
    "\n",
    "for i in ii:\n",
    "    fig, axs = plt.subplots(1, 2, figsize=(6, 3), tight_layout=True)\n",
    "    proto_img = proto_imgs[i]\n",
    "    orig_img = imgs[true_singles_df['Corresponding_Image'].values[i]]\n",
    "    orig_mask = masks[true_singles_df['Corresponding_Image'].values[i]]\n",
    "    x, y, r = get_circle(orig_mask)\n",
    "    \n",
    "    axs[0].imshow(orig_img)\n",
    "    axs[0].contour(orig_mask, levels=[0.5], colors='white', alpha=0.9, linewidths=0.5)\n",
    "    axs[0].add_patch(Circle((x, y), r, color='r', fill=False, lw=1, alpha=0.5))\n",
    "    axs[0].scatter(100, 100, color='orange', marker='x', s=10, lw=0.5)\n",
    "    axs[0].scatter(x, y, color='red', marker='x', s=10, lw=0.5)\n",
    "\n",
    "    axs[1].imshow(proto_img)\n",
    "    axs[1].add_patch(Circle((100, 100), r, color='r', fill=False, lw=1, alpha=0.5))\n",
    "    axs[1].scatter(100, 100, color='orange', marker='x', s=10, lw=0.5)\n",
    "\n",
    "\n",
    "    for ax in axs:\n",
    "        ax.axis(\"off\")\n",
    "\n",
    "    plt.show()\n",
    "\n"
   ]
  },
  {
   "cell_type": "code",
   "execution_count": null,
   "metadata": {},
   "outputs": [],
   "source": [
    "# Cumulative distribution\n",
    "plt.plot(np.sort(model_radii), np.linspace(0, 1, len(model_radii)))\n",
    "# plt.yscale('log')\n",
    "plt.grid(alpha=0.3)"
   ]
  },
  {
   "cell_type": "code",
   "execution_count": null,
   "metadata": {},
   "outputs": [],
   "source": [
    "# Metric peek at radii\n",
    "import plotting.image_plots\n",
    "reload(plotting.image_plots)\n",
    "from plotting.image_plots import metric_peek\n",
    "\n",
    "metric_peek(\n",
    "    model_radii,\n",
    "    np.linspace(0, 80, 9),\n",
    "    model_imgs,\n",
    "    masks=model_masks,\n",
    ")"
   ]
  },
  {
   "cell_type": "code",
   "execution_count": null,
   "metadata": {},
   "outputs": [],
   "source": [
    "proto_imgs = np.clip(proto_imgs, 0, 1)"
   ]
  },
  {
   "cell_type": "code",
   "execution_count": null,
   "metadata": {},
   "outputs": [],
   "source": [
    "import h5py\n",
    "\n",
    "subset_file = paths.LOFAR_DATA_PARENT / 'subsets/LOFAR_prototypes.hdf5'\n",
    "\n",
    "with h5py.File(subset_file, \"w\") as f:\n",
    "        img_dataset = f.create_dataset(\"images\", data=proto_imgs)\n",
    "        img_dataset.attrs[\"original_file\"] = str(dset.path)\n",
    "        \n",
    "        f.create_dataset(\"masks\", data=proto_masks)\n",
    "        f.create_dataset(\"original_images\", data=imgs[true_singles_df['Corresponding_Image'].values])\n",
    "        f.create_dataset(\"original_masks\", data=masks[true_singles_df['Corresponding_Image'].values])"
   ]
  },
  {
   "cell_type": "code",
   "execution_count": null,
   "metadata": {},
   "outputs": [],
   "source": [
    "true_singles_df.reset_index(drop=True, inplace=True)\n",
    "true_singles_df.to_hdf(subset_file, key=\"mask_metadata\")"
   ]
  },
  {
   "cell_type": "code",
   "execution_count": null,
   "metadata": {},
   "outputs": [],
   "source": [
    "# Create subset of resolved sources catalog\n",
    "lofar_res = pd.read_csv(paths.LOFAR_RES_CAT)\n",
    "lofar_res = lofar_res[lofar_res[\"Source_Name\"].isin(true_singles_df[\"Source\"].values)]"
   ]
  },
  {
   "cell_type": "code",
   "execution_count": null,
   "metadata": {},
   "outputs": [],
   "source": [
    "lofar_res.to_hdf(subset_file, key=\"catalog\")"
   ]
  },
  {
   "cell_type": "code",
   "execution_count": null,
   "metadata": {},
   "outputs": [],
   "source": [
    "from data.segment import get_circle\n",
    "from matplotlib.patches import Circle\n",
    "\n",
    "stranger_flag = ~true_singles_df['Home Appearance']\n",
    "\n",
    "for i in np.random.choice(true_singles_df['Corresponding Image'].values, 10, replace=False):\n",
    "    img = dset.data[i]\n",
    "    mask = masks[i]\n",
    "    x, y, r = get_circle(mask)\n",
    "\n",
    "    fig, axs = plt.subplots(1, 3, figsize=(15, 5), tight_layout=True)\n",
    "\n",
    "    ax = axs[0]\n",
    "    ax.imshow(img, origin='lower')\n",
    "    ax.contour(mask, levels=[0.5], colors='w')\n",
    "    ax.add_patch(Circle([x, y], r, color='r', fill=False))\n",
    "\n",
    "    ax = axs[1]\n",
    "    img_c = np.zeros_like(img)\n",
    "    mask_c = np.zeros_like(mask)\n",
    "    mask_coords = np.flip(np.argwhere(mask), axis=1)\n",
    "    mask_coords_c = mask_coords - [x, y] + 100\n",
    "    mask_c[mask_coords_c[:, 1], mask_coords_c[:, 0]] = 1\n",
    "    img_c[mask_coords_c[:, 1], mask_coords_c[:, 0]] = img[mask_coords[:, 1], mask_coords[:, 0]]\n",
    "    ax.imshow(img_c, origin='lower')\n",
    "\n",
    "    ax = axs[2]\n",
    "    ax.imshow(img * (1 - mask), origin='lower')\n",
    "    for ax in axs:\n",
    "        ax.axis('off')\n"
   ]
  },
  {
   "cell_type": "markdown",
   "metadata": {},
   "source": [
    "#### Look at weird flags (listed but no host app.)"
   ]
  },
  {
   "cell_type": "code",
   "execution_count": null,
   "metadata": {},
   "outputs": [],
   "source": [
    "weird_flag = is_listed & ~home_app\n",
    "weird_flag.sum()"
   ]
  },
  {
   "cell_type": "code",
   "execution_count": null,
   "metadata": {},
   "outputs": [],
   "source": [
    "weird_flag = is_listed & ~home_app\n",
    "weird_idxs = np.nonzero(np.isin(dset.names, true_singles_df.Source[weird_flag]))[0]\n",
    "\n",
    "for i in weird_idxs:\n",
    "    fig, axs = plot_image_with_sources(i, dset)\n",
    "    for ax in axs.flatten():\n",
    "        ax.contour(binary_dilation(masks[i], iterations=10), levels=[0.5], colors='orange', linewidths=0.5, alpha=0.5)\n",
    "    name = dset.names[i]\n",
    "    fig.suptitle(f\"Original: Index {i} - {name}\")\n",
    "\n",
    "    i_appearances = i_appearances_single[np.argwhere(unique_true_singles == name).flatten()[0]]\n",
    "    for j in i_appearances:\n",
    "        fig, axs = plot_image_with_sources(j, dset)\n",
    "        for ax in axs.flatten():\n",
    "            ax.contour(binary_dilation(masks[j], iterations=10), levels=[0.5], colors='orange', linewidths=0.5, alpha=0.5)\n",
    "        fig.suptitle(f\"Appearance: Index {j} - {dset.names[j]}\")\n",
    "        fig.show()"
   ]
  },
  {
   "cell_type": "code",
   "execution_count": null,
   "metadata": {},
   "outputs": [],
   "source": []
  },
  {
   "cell_type": "code",
   "execution_count": null,
   "metadata": {},
   "outputs": [],
   "source": [
    "from data.cutouts import cutout_from_catalog\n",
    "\n",
    "def quick_cutout(name):\n",
    "    ind = cat.loc[cat[\"Source_Name\"] == name].index[0]\n",
    "    data, has_nan = cutout_from_catalog(cat, ind, size_px=200)\n",
    "    return data, has_nan\n",
    "\n",
    "i_listed = np.argwhere(is_listed).flatten()\n",
    "\n",
    "for i in np.random.choice(i_listed, 10, replace=False):\n",
    "    data, has_nan = quick_cutout(unique_true_singles[i])\n",
    "    i_appearances = i_appearances_single[i]\n",
    "\n",
    "    fig, ax = plt.subplots(1, 1)\n",
    "    ax.imshow(data, origin='lower')\n",
    "    fig.suptitle(f\"{unique_true_singles[i]} Cutout\")\n",
    "    ax.axis('off')\n",
    "    fig.show()\n",
    "\n",
    "    for j in i_appearances:\n",
    "        fig, axs = plot_image_with_sources(j, dset)\n",
    "        fig.suptitle(f\"Index {j} - {dset.names[j]}\")\n",
    "        fig.show()"
   ]
  },
  {
   "cell_type": "code",
   "execution_count": null,
   "metadata": {},
   "outputs": [],
   "source": []
  },
  {
   "cell_type": "code",
   "execution_count": null,
   "metadata": {},
   "outputs": [],
   "source": [
    "# For every source, count how often it appears on an island as a guest\n",
    "guests_flat = [g for sublist in guests for g in sublist]\n",
    "guest_src, guest_counts = np.unique(guests_flat, return_counts=True)"
   ]
  },
  {
   "cell_type": "code",
   "execution_count": null,
   "metadata": {},
   "outputs": [],
   "source": [
    "guest_appearances = {\n",
    "    n: 0 for n in dset.names\n",
    "}\n",
    "guest_appearances.update(dict(zip(guest_src, guest_counts)))"
   ]
  },
  {
   "cell_type": "code",
   "execution_count": null,
   "metadata": {},
   "outputs": [],
   "source": [
    "import copy\n",
    "\n",
    "total_appearnaces = { n: 0 for n in list(set(list(dset.names) + list(guest_src))) }\n",
    "                     \n",
    "for n in tqdm(total_appearnaces.keys()):\n",
    "    total_appearnaces[n] = guest_appearances[n]\n",
    "    if n in dset.names:\n",
    "        total_appearnaces[n] += int(hosts[dset.names == n][0])"
   ]
  },
  {
   "cell_type": "code",
   "execution_count": null,
   "metadata": {},
   "outputs": [],
   "source": [
    "max(total_appearnaces.values())"
   ]
  },
  {
   "cell_type": "code",
   "execution_count": null,
   "metadata": {},
   "outputs": [],
   "source": [
    "plt.hist(total_appearnaces.values(), bins=np.linspace(0, 7, 8)-0.5)"
   ]
  },
  {
   "cell_type": "code",
   "execution_count": null,
   "metadata": {},
   "outputs": [],
   "source": []
  },
  {
   "cell_type": "code",
   "execution_count": null,
   "metadata": {},
   "outputs": [],
   "source": [
    "(np.array(list(total_appearnaces.values())) > 0).sum()"
   ]
  },
  {
   "cell_type": "code",
   "execution_count": null,
   "metadata": {},
   "outputs": [],
   "source": [
    "for i in tqdm(range(100)):\n",
    "    try:\n",
    "        profle = source_profile(i)\n",
    "    except Exception as e:\n",
    "        print(e)\n",
    "        print(i)\n",
    "        break"
   ]
  },
  {
   "cell_type": "code",
   "execution_count": null,
   "metadata": {},
   "outputs": [],
   "source": [
    "(dset.names == dset.catalog.Source_Name.values).all()"
   ]
  },
  {
   "cell_type": "code",
   "execution_count": null,
   "metadata": {},
   "outputs": [],
   "source": [
    "(dset.names[20] == cat.Source_Name).any()"
   ]
  },
  {
   "cell_type": "code",
   "execution_count": null,
   "metadata": {},
   "outputs": [],
   "source": [
    "src = contaminating_sources(20, dset)\n",
    "print(src)\n",
    "for s in src:\n",
    "    print(cat[cat.Source_Name == s])"
   ]
  },
  {
   "cell_type": "code",
   "execution_count": null,
   "metadata": {},
   "outputs": [],
   "source": [
    "i = 0\n",
    "\n",
    "wcs = create_wcs(i, dset)\n",
    "cont_src = contaminating_sources(i, dset)\n",
    "cont_coords = get_coordinates(cont_src)\n",
    "cont_locs = np.round(wcs.all_world2pix(cont_coords, 0)).astype(int)\n",
    "cont_mask = np.zeros_like(masks[i])\n",
    "cont_mask[cont_locs[:, 1], cont_locs[:, 0]] = 1\n",
    "\n",
    "fig, axs = plt.subplots(1, 2, figsize=(10, 5), subplot_kw={\"projection\": wcs})\n",
    "\n",
    "axs[0].imshow(imgs_sc[i], origin=\"lower\")\n",
    "axs[0].contour(masks[i], levels=[0.5], colors=\"cyan\", linewidths=0.5, alpha=0.5)\n",
    "\n",
    "axs[1].imshow(masks[i], origin=\"lower\")\n",
    "axs[1].scatter(*cont_coords.T, transform=axs[0].get_transform(\"world\"), color=\"r\")"
   ]
  },
  {
   "cell_type": "code",
   "execution_count": null,
   "metadata": {},
   "outputs": [],
   "source": [
    "n_isl = count_islands(masks)"
   ]
  },
  {
   "cell_type": "code",
   "execution_count": null,
   "metadata": {},
   "outputs": [],
   "source": [
    "n, c = np.unique(n_isl, return_counts=True)\n",
    "print([f\"{n[i]}: {c[i]}\" for i in range(len(n))])"
   ]
  },
  {
   "cell_type": "code",
   "execution_count": null,
   "metadata": {},
   "outputs": [],
   "source": [
    "ii = np.argwhere(n_isl == 2).flatten()\n",
    "\n",
    "for i in ii:\n",
    "    fig, axs = plt.subplots(1, 2, figsize=(10, 5))\n",
    "\n",
    "    axs[0].imshow(imgs_sc[i], origin=\"lower\")\n",
    "    axs[0].contour(masks[i], levels=[0.5], colors=\"cyan\", linewidths=0.5, alpha=0.5)\n",
    "\n",
    "    axs[1].imshow(imgs_sc[i] * (1 - masks[i]), origin=\"lower\")"
   ]
  },
  {
   "cell_type": "markdown",
   "metadata": {},
   "source": [
    "### Catalogize Ghost Sources"
   ]
  },
  {
   "cell_type": "code",
   "execution_count": null,
   "metadata": {},
   "outputs": [],
   "source": [
    "island_coords = [\n",
    "    create_wcs(i, dset).all_pix2world(np.transpose(np.nonzero(masks[i])), 0) for i in tqdm(i_ghosts)\n",
    "]"
   ]
  },
  {
   "cell_type": "code",
   "execution_count": null,
   "metadata": {},
   "outputs": [],
   "source": [
    "from skimage.measure import centroid\n",
    "\n",
    "center_dist = np.array([\n",
    "    np.linalg.norm(centroid(masks[i]) - [100, 100]) for i in tqdm(i_ghosts)\n",
    "])"
   ]
  },
  {
   "cell_type": "code",
   "execution_count": null,
   "metadata": {},
   "outputs": [],
   "source": [
    "import math\n",
    "from itertools import combinations\n",
    "\n",
    "def overlap(k, l):\n",
    "    # k,l are indices corresponding to ghosts\n",
    "    i = i_ghosts[k]\n",
    "    wcs = create_wcs(i, dset)\n",
    "    mask_i_coords = np.transpose(np.nonzero(masks[i]))\n",
    "    mask_j_coords = island_coords[l]\n",
    "    mask_j_transf = wcs.all_world2pix(mask_j_coords, 0)\n",
    "    # Keep only coordinates where both values are between 0 and 200\n",
    "    mask_j_transf = mask_j_transf[np.all(mask_j_transf >= 0, axis=1) & np.all(mask_j_transf < 200, axis=1)].astype(int)\n",
    "    if len(mask_j_transf) == 0:\n",
    "        return k, l, False\n",
    "    return k, l, np.any(np.all(mask_i_coords == mask_j_transf[:, None], axis=-1))\n",
    "\n",
    "def pair_wise_overlap_parallel():\n",
    "    # Calculate the pair-wise overlap between all ghost islands in parallel.\n",
    "    # This is done in parallel to speed up the process.\n",
    "    # The results are stored in a dictionary with the keys being the indices of the ghosts\n",
    "    # and the values being lists of indices of overlapping ghosts.\n",
    "\n",
    "    overlap_martix = np.zeros((len(i_ghosts), len(i_ghosts)), dtype=bool)\n",
    "    # Diagonal is always true\n",
    "    np.fill_diagonal(overlap_martix, True)\n",
    "\n",
    "    with ProcessPoolExecutor(max_workers=16) as executor:\n",
    "        futures = [\n",
    "            executor.submit(overlap, k, l) for k, l in combinations(range(len(i_ghosts)), 2)\n",
    "        ]\n",
    "        for future in tqdm(concurrent.futures.as_completed(futures), total=math.comb(len(i_ghosts), 2)):\n",
    "            k, l, ov = future.result()\n",
    "            overlap_martix[k, l] = ov\n",
    "            overlap_martix[l, k] = ov\n",
    "    return overlap_martix"
   ]
  },
  {
   "cell_type": "code",
   "execution_count": null,
   "metadata": {},
   "outputs": [],
   "source": [
    "[overlap(0, j) for j in tqdm(range(len(i_ghosts)))]"
   ]
  },
  {
   "cell_type": "code",
   "execution_count": null,
   "metadata": {},
   "outputs": [],
   "source": [
    "print('a')"
   ]
  },
  {
   "cell_type": "code",
   "execution_count": null,
   "metadata": {},
   "outputs": [],
   "source": [
    "overlap_matrix = pair_wise_overlap_parallel()"
   ]
  },
  {
   "cell_type": "code",
   "execution_count": null,
   "metadata": {},
   "outputs": [],
   "source": [
    "l, k = 15, 15\n",
    "\n",
    "i = i_ghosts[k]\n",
    "wcs = create_wcs(i, dset)\n",
    "mask_i_coords = np.transpose(np.nonzero(masks[i]))\n",
    "\n",
    "fig, axs = plt.subplots(1, 2, figsize=(10, 5), tight_layout=True)\n",
    "\n",
    "ax = axs[0]\n",
    "ax.imshow(masks[i], origin=\"lower\")\n",
    "ax.scatter(*reversed(mask_i_coords.T), color=\"r\", marker=\".\", s=0.25)\n",
    "\n",
    "ax = axs[1]\n",
    "ax.imshow(masks[i], origin=\"lower\")\n",
    "\n",
    "mask_j_coords = island_coords[l]\n",
    "mask_j_transf = wcs.all_world2pix(mask_j_coords, 0)\n",
    "\n",
    "ax.scatter(*reversed(mask_j_transf.T), color=\"r\", marker=\".\", s=0.25)\n",
    "\n",
    "for ax in axs:\n",
    "    ax.axis('off')"
   ]
  },
  {
   "cell_type": "code",
   "execution_count": null,
   "metadata": {},
   "outputs": [],
   "source": [
    "np.flip(mask_j_coords).shape"
   ]
  },
  {
   "cell_type": "code",
   "execution_count": null,
   "metadata": {},
   "outputs": [],
   "source": [
    "k, l = 2, 2\n",
    "\n",
    "i = i_ghosts[k]\n",
    "j = i_ghosts[l]\n",
    "wcs = create_wcs(i, dset)\n",
    "mask_i_coords = np.transpose(np.nonzero(masks[i]))\n",
    "mask_j_coords = island_coords[l]\n",
    "mask_j_transf = wcs.all_world2pix(mask_j_coords, 0)\n",
    "print(mask_j_transf.T)\n",
    "\n",
    "# Keep only coordinates where both values are between 0 and 200\n",
    "# mask_j_transf = mask_j_transf[np.all(mask_j_transf >= 0, axis=1) & np.all(mask_j_transf < 200, axis=1)].astype(int)\n",
    "\n",
    "fig, axs = plt.subplots(1, 2, figsize=(10, 5), tight_layout=True)\n",
    "\n",
    "ax = axs[0]\n",
    "ax.imshow(masks[i], origin=\"lower\")\n",
    "ax.scatter(*reversed(mask_i_coords.T), color=\"r\", marker=\".\", s=0.25)\n",
    "\n",
    "ax = axs[1]\n",
    "ax.imshow(masks[j], origin=\"lower\")\n",
    "ax.scatter(*reversed(mask_j_transf.T), color=\"r\", marker=\".\", s=0.25)\n",
    "\n",
    "for ax in axs:\n",
    "    ax.axis('off')"
   ]
  },
  {
   "cell_type": "code",
   "execution_count": null,
   "metadata": {},
   "outputs": [],
   "source": [
    "from copy import deepcopy\n",
    "import warnings\n",
    "\n",
    "# Loop through ghost sources:\n",
    "filtered_ghost_sources = np.copy(i_ghosts).tolist()\n",
    "overlap_dict = {}\n",
    "pbar = tqdm(i_ghosts)\n",
    "\n",
    "k = 0\n",
    "while k < len(filtered_ghost_sources):\n",
    "    # Get source i\n",
    "    i = filtered_ghost_sources[k]\n",
    "    wcs = create_wcs(i, dset)\n",
    "    overlaps = []\n",
    "    mask_i_coords = np.transpose(np.nonzero(masks[i]))\n",
    "\n",
    "    # Loop through filtered list\n",
    "    for j in filtered_ghost_sources:\n",
    "\n",
    "        # Skip self\n",
    "        if i == j:\n",
    "            continue\n",
    "\n",
    "        # Transform mask coordinates to image i\n",
    "        mask_j_transf = wcs.all_world2pix(island_coords[np.nonzero(i_ghosts == j)[0][0]], 0)\n",
    "\n",
    "        with warnings.catch_warnings():\n",
    "            warnings.simplefilter(\"ignore\")\n",
    "            mask_j_transf = np.round(mask_j_transf).astype(int)\n",
    "\n",
    "        # See if masks overlap: Check for any equal coordinate pairs\n",
    "        if np.any(np.all(mask_i_coords[:, None] == mask_j_transf, axis=-1)):\n",
    "            overlaps.append(j)\n",
    "\n",
    "\n",
    "    # Keep the one with smallest distance to center, remove all others\n",
    "    # from the filtered list\n",
    "    if len(overlaps) > 0:\n",
    "        dists = center_dist[overlaps + [i]]\n",
    "        duplicates = deepcopy(overlaps)\n",
    "        duplicates.pop(np.argmin(dists))\n",
    "        for d in duplicates:\n",
    "            filtered_ghost_sources.remove(d)\n",
    "\n",
    "    overlap_dict[i] = overlaps\n",
    "\n",
    "    # Update progress bar\n",
    "    pbar.update(1 + len(overlaps))\n",
    "    k += 1"
   ]
  },
  {
   "cell_type": "code",
   "execution_count": null,
   "metadata": {},
   "outputs": [],
   "source": [
    "pbar.close()"
   ]
  },
  {
   "cell_type": "markdown",
   "metadata": {},
   "source": [
    "## Background Noise Statistics"
   ]
  },
  {
   "cell_type": "code",
   "execution_count": null,
   "metadata": {},
   "outputs": [],
   "source": [
    "# Calculate statistics\n",
    "bg_mean = backgrounds_sc.mean(axis=(-1, -2))\n",
    "bg_std = backgrounds_sc.std(axis=(-1, -2))\n",
    "bg_rms = np.sqrt((backgrounds_sc**2).mean(axis=(-1, -2)))"
   ]
  },
  {
   "cell_type": "code",
   "execution_count": null,
   "metadata": {},
   "outputs": [],
   "source": [
    "src_rms = np.sqrt((sources_sc**2).mean(axis=(-1, -2)))"
   ]
  },
  {
   "cell_type": "code",
   "execution_count": null,
   "metadata": {},
   "outputs": [],
   "source": [
    "bg_mean_sel = bg_mean[idxs_edge_thr]\n",
    "bg_std_sel = bg_std[idxs_edge_thr]\n",
    "bg_rms_sel = bg_rms[idxs_edge_thr]\n",
    "src_rms_sel = src_rms[idxs_edge_thr]"
   ]
  },
  {
   "cell_type": "code",
   "execution_count": null,
   "metadata": {},
   "outputs": [],
   "source": [
    "fig, axs = plt.subplots(2, 3, tight_layout=True, figsize=(18, 10))\n",
    "\n",
    "ax = axs[0][0]\n",
    "ax.hist(bg_rms, bins=10, label=\"All\")\n",
    "ax.hist(bg_rms_sel, bins=10, label=\"Selected\")\n",
    "ax.set_yscale(\"log\")\n",
    "ax.set_xlabel(\"Background RMS\")\n",
    "ax.set_ylabel(\"Counts\")\n",
    "\n",
    "ax = axs[0][1]\n",
    "ax.hist(bg_std, bins=10, label=\"All\")\n",
    "ax.hist(bg_std_sel, bins=10, label=\"Selected\")\n",
    "ax.set_yscale(\"log\")\n",
    "ax.set_xlabel(\"Background Std\")\n",
    "ax.set_ylabel(\"Counts\")\n",
    "\n",
    "ax = axs[0][2]\n",
    "ax.scatter(bg_rms, bg_std, label=\"All\")\n",
    "ax.scatter(bg_rms_sel, bg_std_sel, label=\"Selected\")\n",
    "ax.set_xlabel(\"Background RMS\")\n",
    "ax.set_ylabel(\"Background Std\")\n",
    "lim = max(bg_rms.max(), bg_std.max())\n",
    "ax.plot(*([0, lim * 1.05],) * 2, \"k--\", label=\"y=x\")\n",
    "ax.set_xscale(\"log\")\n",
    "ax.set_yscale(\"log\")\n",
    "\n",
    "\n",
    "# Cumulative Distributions by sorting\n",
    "ax = axs[1][0]\n",
    "ax.plot(np.sort(bg_rms), np.linspace(0, 1, len(bg_rms)), label=\"All\")\n",
    "# ax.axvline(md := np.median(bg_rms_sorted), color='r', label=f'Median={md:.2e}', alpha=0.5, ls='--')\n",
    "ax.plot(np.sort(bg_rms_sel), np.linspace(0, 1, len(bg_rms_sel)), label=\"Selected\")\n",
    "ax.set_xlabel(\"Background RMS\")\n",
    "ax.set_ylabel(\"Cumulative Distribution\")\n",
    "ax.set_xscale(\"log\")\n",
    "\n",
    "ax = axs[1][1]\n",
    "ax.plot(np.sort(bg_std), np.linspace(0, 1, len(bg_std)), label=\"Background Std\")\n",
    "ax.plot(np.sort(bg_std_sel), np.linspace(0, 1, len(bg_std_sel)), label=\"Selected\")\n",
    "# ax.axvline(md := np.median(bg_std_sorted), color='r', label=f'Median={md:.2e}', alpha=0.5, ls='--')\n",
    "ax.set_xlabel(\"Background Std\")\n",
    "ax.set_ylabel(\"Cumulative Distribution\")\n",
    "ax.set_xscale(\"log\")\n",
    "\n",
    "for ax in axs.flatten():\n",
    "    ax.grid(alpha=0.3)\n",
    "    ax.legend()"
   ]
  },
  {
   "cell_type": "code",
   "execution_count": null,
   "metadata": {},
   "outputs": [],
   "source": [
    "plt.scatter(bg_std, np.array([max(m) for m in edge_mxs]))"
   ]
  },
  {
   "cell_type": "code",
   "execution_count": null,
   "metadata": {},
   "outputs": [],
   "source": [
    "edge_stats = np.array([scaled_edge_mean_std(m, i) for m, i in tqdm(zip(masks_sel, imgs_sc_sel), total=len(masks_sel))])"
   ]
  },
  {
   "cell_type": "code",
   "execution_count": null,
   "metadata": {},
   "outputs": [],
   "source": [
    "fig, axs = plt.subplots(1, 2, tight_layout=True, figsize=(12, 6))\n",
    "\n",
    "ax = axs[0]\n",
    "ax.hist(edge_stats[:, 0], bins=10, label=\"Mean\")\n",
    "\n",
    "ax = axs[1]\n",
    "ax.hist(edge_stats[:, 1], bins=10, label=\"Std\")\n",
    "\n",
    "for ax in axs:\n",
    "    ax.grid(alpha=0.3)\n",
    "    ax.legend()\n",
    "    ax.set_yscale(\"log\")\n",
    "\n",
    "fig.show()"
   ]
  },
  {
   "cell_type": "code",
   "execution_count": null,
   "metadata": {},
   "outputs": [],
   "source": [
    "edge_stats_rel = relative_edge_mean_std_imgs(masks_sel, imgs_sc_sel)"
   ]
  },
  {
   "cell_type": "code",
   "execution_count": null,
   "metadata": {},
   "outputs": [],
   "source": [
    "edge_mean_rel = np.concatenate([e[:, 0] for e in edge_stats_rel])\n",
    "edge_std_rel = np.concatenate([e[:, 1] for e in edge_stats_rel])\n",
    "\n",
    "fig, axs = plt.subplots(1, 2, tight_layout=True, figsize=(12, 6))\n",
    "\n",
    "ax = axs[0]\n",
    "ax.hist(edge_mean_rel, bins=10, label=\"Mean\")\n",
    "\n",
    "ax = axs[1]\n",
    "ax.hist(edge_std_rel, bins=10, label=\"Std\")\n",
    "\n",
    "for ax in axs:\n",
    "    ax.grid(alpha=0.3)\n",
    "    ax.legend()\n",
    "    ax.set_yscale(\"log\")\n",
    "\n",
    "fig.show()"
   ]
  },
  {
   "cell_type": "code",
   "execution_count": null,
   "metadata": {},
   "outputs": [],
   "source": [
    "from plotting.image_plots import metric_peek\n",
    "\n",
    "metric_peek(\n",
    "    bg_rms,\n",
    "    np.percentile(bg_rms, np.arange(0, 110, 10)),\n",
    "    imgs_sc,\n",
    ")"
   ]
  },
  {
   "cell_type": "code",
   "execution_count": null,
   "metadata": {},
   "outputs": [],
   "source": [
    "plt.hist(bg_rms / src_rms, bins=10, log=True)\n",
    "plt.grid(alpha=0.3)\n",
    "\n",
    "plt.show()"
   ]
  },
  {
   "cell_type": "code",
   "execution_count": null,
   "metadata": {},
   "outputs": [],
   "source": [
    "rms_selection = bg_rms < 5e-3\n",
    "rms_selection_idxs = np.where(rms_selection)[0]\n",
    "n = rms_selection.sum()\n",
    "print(f\"Selected {n} images ({n / len(rms_selection)*100:.2f}%)\")\n",
    "\n",
    "idxs = np.random.choice(rms_selection_idxs, 10, replace=False)\n",
    "\n",
    "for i in idxs:\n",
    "    fig, axs = plt.subplots(1, 3, tight_layout=True, figsize=(18, 6))\n",
    "\n",
    "    ax = axs[0]\n",
    "    ax.imshow(imgs[i])\n",
    "    ax.axis(\"off\")\n",
    "\n",
    "    ax = axs[1]\n",
    "    ax.imshow(imgs[i] * masks[i])\n",
    "    ax.axis(\"off\")\n",
    "\n",
    "    ax = axs[2]\n",
    "    ax.imshow(backgrounds_sc[i])\n",
    "    ax.axis(\"off\")\n",
    "\n",
    "    plt.show()"
   ]
  },
  {
   "cell_type": "markdown",
   "metadata": {},
   "source": [
    "### Negative Pixels Gaussian Fit "
   ]
  },
  {
   "cell_type": "code",
   "execution_count": null,
   "metadata": {},
   "outputs": [],
   "source": [
    "from scipy.optimize import curve_fit\n",
    "\n",
    "\n",
    "def max_scale_batch(imgs):\n",
    "    return imgs / imgs.amax(dim=(-1, -2), keepdim=True)\n",
    "\n",
    "\n",
    "def gaussian(x, a, s):\n",
    "    return a * np.exp(-(x**2) / (2 * np.pi * s**2))\n",
    "\n",
    "\n",
    "def centers(bins):\n",
    "    return (bins[1:] + bins[:-1]) / 2\n",
    "\n",
    "\n",
    "for i in idxs:\n",
    "    original_image = max_scale_batch(dset.data[i]).numpy()\n",
    "    mask = dset.masks[i].numpy()\n",
    "\n",
    "    fig, axs = plt.subplots(\n",
    "        2, 2, figsize=(9, 12), tight_layout=True, height_ratios=[1, 4]\n",
    "    )\n",
    "\n",
    "    ax = axs[0][0]\n",
    "    ax.set_yscale(\"log\")\n",
    "    bins = np.linspace(m := original_image.min(), -m, 100)\n",
    "\n",
    "    ax.hist(original_image.flatten(), bins=bins, label=\"Full Image\", histtype=\"step\")\n",
    "    masked_pixels = original_image[mask == 1].flatten()\n",
    "    ax.hist(masked_pixels, bins=bins, label=\"Masked Pixels\", histtype=\"step\")\n",
    "\n",
    "    # Fit a gaussian with zero mean and free variance and amplitude\n",
    "    y, x = np.histogram(original_image.flatten(), bins=bins, density=False)\n",
    "    xcen = centers(x)\n",
    "    x, y = xcen[xcen < 0], y[xcen < 0]\n",
    "    a0, s0 = y.max(), 1e-3\n",
    "    # print(a0, s0)\n",
    "    popt, pcov = curve_fit(gaussian, x, y, p0=[a0, s0])\n",
    "\n",
    "    a, s = popt[0], popt[1]\n",
    "    ylim = ax.get_ylim()\n",
    "    ax.plot(xcen, gaussian(xcen, *popt), label=f\"Fit: a={a:.2e}, s={s:.2e}\")\n",
    "    ax.set_ylim(ylim)\n",
    "    # Vertical lines at s, 2s, 3s, 5s with annotations on top\n",
    "    for mult in [3, 5]:\n",
    "        ax.axvline(s * mult, color=\"r\", linestyle=\"--\", linewidth=0.5)\n",
    "        ax.text(\n",
    "            s * mult, 0.9 * ax.get_ylim()[1], f\"{mult}σ\", color=\"r\", fontsize=\"small\"\n",
    "        )\n",
    "\n",
    "    ax = axs[0][1]\n",
    "    ax.set_yscale(\"log\")\n",
    "    c, b, _ = ax.hist(\n",
    "        original_image.flatten(), bins=100, label=\"Full Image\", histtype=\"step\"\n",
    "    )\n",
    "    masked_pixels = original_image[mask == 1].flatten()\n",
    "    ax.hist(masked_pixels, bins=b, label=\"Masked Pixels\", histtype=\"step\")\n",
    "\n",
    "    # Vertical line at minimum of the masked pixels\n",
    "    ax.axvline(mn := masked_pixels.min(), color=\"r\", linestyle=\"--\", linewidth=0.5)\n",
    "    ax.text(\n",
    "        s * mult,\n",
    "        0.9 * ax.get_ylim()[1],\n",
    "        f\"Min={mn / s:.1f}σ\",\n",
    "        color=\"r\",\n",
    "        fontsize=\"small\",\n",
    "    )\n",
    "\n",
    "    ax.set_xlim(right=0.5)\n",
    "    # Set yaxis on right\n",
    "    ax.yaxis.tick_right()\n",
    "\n",
    "    for ax in axs[0]:\n",
    "        ax.legend(loc=\"upper left\", fontsize=\"x-small\")\n",
    "        ax.grid(alpha=0.3)\n",
    "\n",
    "    ax = axs[1][0]\n",
    "    ax.imshow(original_image)\n",
    "    ax.contour(mask, colors=\"lime\", linewidths=0.3, alpha=0.7, levels=[0.5])\n",
    "\n",
    "    ax = axs[1][1]\n",
    "    ax.imshow(original_image * (1 - mask))\n",
    "\n",
    "    for ax in axs[1]:\n",
    "        ax.axis(\"off\")\n",
    "\n",
    "    fig.show()"
   ]
  },
  {
   "cell_type": "code",
   "execution_count": null,
   "metadata": {},
   "outputs": [],
   "source": [
    "from scipy.optimize import curve_fit\n",
    "from data.segment import smooth_mask, refine_mask, expand_islands\n",
    "from skimage.measure import label\n",
    "\n",
    "\n",
    "def gaussian(x, a, s):\n",
    "    return a * np.exp(-(x**2) / (2 * np.pi * s**2))\n",
    "\n",
    "\n",
    "def centers(bins):\n",
    "    return (bins[1:] + bins[:-1]) / 2\n",
    "\n",
    "\n",
    "def fit_sigma(img):\n",
    "    bins = np.linspace(m := img.min(), 0, 100)\n",
    "    y, x = np.histogram(img.flatten(), bins=bins, density=False)\n",
    "    x = centers(x)\n",
    "    a0 = y.max()\n",
    "    s0 = np.concatenate((neg := img[img < 0], -neg)).std()\n",
    "    popt, pcov = curve_fit(gaussian, x, y, p0=[a0, s0])\n",
    "    return popt[1]\n",
    "\n",
    "\n",
    "def sigma_labels(img, sigma, levels=np.arange(1, 6)):\n",
    "    return np.digitize(img, levels * sigma)\n",
    "\n",
    "\n",
    "def get_mask(image):\n",
    "    sigma = fit_sigma(image)\n",
    "    labels = sigma_labels(image, sigma, levels=np.arange(1, 11))\n",
    "\n",
    "    mask = smooth_mask(labels >= 8, min_px=8)\n",
    "    # mask = expand_islands(mask, labels >= 5)\n",
    "    return mask"
   ]
  },
  {
   "cell_type": "code",
   "execution_count": null,
   "metadata": {},
   "outputs": [],
   "source": [
    "from tqdm import tqdm\n",
    "\n",
    "idxs = np.random.choice(len(dset), 1000, replace=False)\n",
    "\n",
    "imgs = dset.data[idxs].numpy()\n",
    "sigmas = np.array([fit_sigma(img) for img in tqdm(imgs)])\n",
    "snr = imgs.max(axis=(-1, -2)) / sigmas"
   ]
  },
  {
   "cell_type": "code",
   "execution_count": null,
   "metadata": {},
   "outputs": [],
   "source": [
    "snr_selection = snr > 500\n",
    "idxs = np.random.choice(np.where(snr_selection)[0], 10, replace=False)\n",
    "\n",
    "i = idxs[0]\n",
    "img = imgs[i]\n",
    "mask = get_mask(img)\n",
    "\n",
    "fig, axs = plt.subplots(1, 3, figsize=(12, 6), tight_layout=True)\n",
    "\n",
    "ax = axs[0]\n",
    "ax.imshow(img)\n",
    "ax.axis(\"off\")\n",
    "\n",
    "ax = axs[1]\n",
    "ax.imshow(img)\n",
    "ax.contour(mask, colors=\"cyan\", linewidths=0.3, alpha=0.5, levels=[0.5])\n",
    "ax.axis(\"off\")\n",
    "\n",
    "ax = axs[2]\n",
    "ax.imshow(img * (1 - mask))\n",
    "ax.axis(\"off\")\n",
    "\n",
    "fig.show()"
   ]
  },
  {
   "cell_type": "code",
   "execution_count": null,
   "metadata": {},
   "outputs": [],
   "source": [
    "# For every image, generate island labels indicating the sigma levels of pixels\n",
    "\n",
    "from matplotlib import colormaps as cm\n",
    "\n",
    "\n",
    "labels = sigma_labels(img, sigma)\n",
    "\n",
    "fig, axs = plt.subplots(1, 3, figsize=(12, 6), tight_layout=True)\n",
    "\n",
    "ax = axs[0]\n",
    "ax.imshow(img)\n",
    "ax.axis(\"off\")\n",
    "\n",
    "ax = axs[1]\n",
    "ax.imshow(img)\n",
    "min_level = 3\n",
    "levels = np.arange(min_level, 6)\n",
    "colors = list(cm[\"hot\"](np.linspace(0, 1, len(levels))))\n",
    "ax.contour(labels, colors=colors, linewidths=0.3, alpha=1, levels=levels - 0.5)\n",
    "ax.axis(\"off\")\n",
    "\n",
    "ax = axs[2]\n",
    "ax.imshow(img * (labels < 3))\n",
    "ax.axis(\"off\")\n",
    "\n",
    "fig.show()"
   ]
  },
  {
   "cell_type": "code",
   "execution_count": null,
   "metadata": {},
   "outputs": [],
   "source": [
    "snr = imgs.max(axis=(-1, -2)) / sigmas"
   ]
  },
  {
   "cell_type": "code",
   "execution_count": null,
   "metadata": {},
   "outputs": [],
   "source": [
    "fig, axs = plt.subplots(1, 3, figsize=(12, 6), tight_layout=True)\n",
    "\n",
    "ax = axs[0]\n",
    "ax.hist(sigmas, bins=10, label=\"Sigma\")\n",
    "ax.set_yscale(\"log\")\n",
    "ax.set_xlabel(\"Sigma\")\n",
    "\n",
    "ax = axs[1]\n",
    "ax.hist(snr, bins=10, label=\"SNR\")\n",
    "ax.set_yscale(\"log\")\n",
    "ax.set_xlabel(\"SNR\")\n",
    "\n",
    "ax = axs[2]\n",
    "sort_idxs = snr.argsort()\n",
    "ax.plot(snr[sort_idxs], np.linspace(0, 1, len(snr)), label=\"SNR\")\n",
    "\n",
    "for ax in axs:\n",
    "    ax.grid(alpha=0.3)\n",
    "    ax.legend()\n",
    "\n",
    "fig.show()"
   ]
  },
  {
   "cell_type": "code",
   "execution_count": null,
   "metadata": {},
   "outputs": [],
   "source": [
    "np.median(snr)"
   ]
  },
  {
   "cell_type": "code",
   "execution_count": null,
   "metadata": {},
   "outputs": [],
   "source": [
    "from plotting.image_plots import metric_peek\n",
    "\n",
    "metric_peek(\n",
    "    snr,\n",
    "    np.percentile(snr, np.arange(0, 110, 10)),\n",
    "    imgs,\n",
    ")"
   ]
  },
  {
   "cell_type": "code",
   "execution_count": null,
   "metadata": {},
   "outputs": [],
   "source": [
    "beam_size = 6  # Arcsec (FWHM)\n",
    "px_size = 1.5  # Arcsec\n",
    "\n",
    "beam_radius = beam_size / (2 * px_size)  # In pixels\n",
    "beam_radius"
   ]
  },
  {
   "cell_type": "code",
   "execution_count": null,
   "metadata": {},
   "outputs": [],
   "source": []
  },
  {
   "cell_type": "markdown",
   "metadata": {},
   "source": [
    "# Augmentations"
   ]
  },
  {
   "cell_type": "markdown",
   "metadata": {},
   "source": [
    "## Mock Noise"
   ]
  },
  {
   "cell_type": "code",
   "execution_count": null,
   "metadata": {},
   "outputs": [],
   "source": [
    "from data.transforms import minmax_scale\n",
    "\n",
    "i = np.random.choice(len(dset))\n",
    "\n",
    "img_arr = dset[i].numpy().squeeze()\n",
    "labels = dset.island_labels[i]\n",
    "\n",
    "mask = labels > 0\n",
    "mask = binary_fill_holes(mask)\n",
    "mask = binary_closing(mask, structure=np.ones((3,) * 2))\n",
    "mask = binary_opening(mask, structure=np.ones((1,) * 2))\n",
    "mask = remove_small_islands(mask, 5)\n",
    "\n",
    "background = img_arr * (mask == 0)\n",
    "\n",
    "fig, ax = plt.subplots(1, 1, figsize=(6, 6), tight_layout=True)\n",
    "ax.imshow(background)\n",
    "ax.axis(\"off\")"
   ]
  },
  {
   "cell_type": "code",
   "execution_count": null,
   "metadata": {},
   "outputs": [],
   "source": [
    "from data.transforms import minmax_scale\n",
    "from scipy.ndimage import binary_fill_holes, binary_closing, binary_opening\n",
    "from data.segment import remove_small_islands, smooth_mask\n",
    "import numpy as np\n",
    "\n",
    "# Helper functions:\n",
    "\n",
    "\n",
    "# 2D Fourier Transform\n",
    "def fft_2d(input):\n",
    "    ft = np.fft.ifftshift(input)\n",
    "    ft = np.fft.fft2(ft)\n",
    "    ft = np.fft.fftshift(ft)\n",
    "    return ft\n",
    "\n",
    "\n",
    "# 2D Inverse Fourier Transform\n",
    "def ifft_2d(input):\n",
    "    ft = np.fft.ifftshift(input)\n",
    "    ft = np.fft.ifft2(ft)\n",
    "    ft = np.fft.fftshift(ft)\n",
    "    return ft\n",
    "\n",
    "\n",
    "# Get image and mask from dataset\n",
    "# i = np.random.choice(len(dset))\n",
    "img_arr = dset[i].numpy().squeeze()\n",
    "labels = dset.island_labels[i]\n",
    "mask = smooth_mask(labels > 0)\n",
    "\n",
    "# Image background from inverse mask\n",
    "background = img_arr * (mask == 0)\n",
    "\n",
    "# Visiblity mask based on sigma-threshold from background FFT\n",
    "vis = np.log(abs(fft_2d(background)))\n",
    "vis_mask = vis > vis.mean() + 1.5 * vis.std()\n",
    "\n",
    "# Create mock noise from gaussian\n",
    "z = np.random.randn(*background.shape)\n",
    "ft = fft_2d(z)\n",
    "ift = ifft_2d(ft * vis_mask)\n",
    "sim_background = ift.real * 3 * background.std() + background.mean()\n",
    "\n",
    "# Plot everything\n",
    "fig, axs = plt.subplots(2, 3, figsize=(12, 8), tight_layout=True)\n",
    "\n",
    "axs[0][0].imshow(img_arr, vmin=0, vmax=1)\n",
    "axs[0][1].imshow(vis)\n",
    "axs[0][2].imshow(background, vmin=0, vmax=0.1)\n",
    "\n",
    "axs[1][0].imshow(np.log(abs(ft)))\n",
    "axs[1][1].imshow(vis_mask)\n",
    "axs[1][2].imshow(sim_background, vmin=0, vmax=0.1)\n",
    "\n",
    "for ax in axs.flatten():\n",
    "    ax.axis(\"off\")"
   ]
  },
  {
   "cell_type": "code",
   "execution_count": null,
   "metadata": {},
   "outputs": [],
   "source": [
    "from skimage.measure import label\n",
    "\n",
    "ll = label(mask)\n",
    "max_vals = [(img_arr * (ll == lbl)).max() for lbl in np.unique(ll)]\n",
    "print(max_vals)\n",
    "\n",
    "min_signal = min(max_vals)\n",
    "\n",
    "fig, axs = plt.subplots(2, 3, figsize=(12, 8), tight_layout=True)\n",
    "\n",
    "axs[0][0].imshow(img_arr)\n",
    "axs[0][0].contour(mask, levels=[0.5], colors=\"cyan\", alpha=0.5, linewidths=0.2)\n",
    "axs[0][1].imshow(img_arr * (1 - mask), vmin=0, vmax=0.5)\n",
    "axs[0][2].imshow(img_arr * mask, vmin=0, vmax=1)\n",
    "\n",
    "img_aug = img_arr + sim_background * min_signal / sim_background.mean() * 0.8\n",
    "axs[1][0].imshow(img_aug, vmin=0, vmax=1)\n",
    "axs[1][1].imshow(sim_background, vmin=0, vmax=0.5)\n",
    "axs[1][2].imshow(img_aug * mask, vmin=0, vmax=1)\n",
    "\n",
    "\n",
    "for ax in axs.flatten():\n",
    "    ax.axis(\"off\")"
   ]
  },
  {
   "cell_type": "code",
   "execution_count": null,
   "metadata": {},
   "outputs": [],
   "source": [
    "plt.hist(\n",
    "    background.flatten(), bins=100, histtype=\"step\", density=True, label=\"Background\"\n",
    ")\n",
    "# plt.hist(z.flatten(), bins=100, histtype='step', density=True, label='Noise')\n",
    "plt.hist(\n",
    "    ift.real.flatten() * 2 * background.std() + background.mean(),\n",
    "    bins=100,\n",
    "    histtype=\"step\",\n",
    "    density=True,\n",
    "    label=\"Noise IFT\",\n",
    ")\n",
    "plt.legend()\n",
    "plt.show()"
   ]
  },
  {
   "cell_type": "code",
   "execution_count": null,
   "metadata": {},
   "outputs": [],
   "source": [
    "# Look for visibility in the mosaics\n",
    "import pprint\n",
    "from astropy.io import fits\n",
    "import utils.paths as paths\n",
    "\n",
    "reload(paths)\n",
    "\n",
    "mosaic_file = list(paths.MOSAIC_DIR.glob(\"*\"))[0] / \"mosaic-blanked.fits\"\n",
    "\n",
    "# Look at contents\n",
    "with fits.open(mosaic_file) as hdul:\n",
    "    print(hdul.info())\n",
    "    pprint.pprint(hdul[0].header)"
   ]
  },
  {
   "cell_type": "markdown",
   "metadata": {},
   "source": [
    "## Single PyBDSF Runs"
   ]
  },
  {
   "cell_type": "code",
   "execution_count": null,
   "metadata": {},
   "outputs": [],
   "source": [
    "from analysis.bdsf_analysis import bdsf_on_image\n",
    "import matplotlib.pyplot as plt\n",
    "from scipy.ndimage import binary_closing, binary_opening, binary_fill_holes\n",
    "\n",
    "bdsf_kwargs = {\n",
    "    \"thresh_isl\": 3.5,\n",
    "    \"thresh_pix\": 1,\n",
    "    # 'shapelet_do': True,\n",
    "    # 'atrous_do': True,\n",
    "}\n",
    "\n",
    "for i in [25292]:\n",
    "    img_arr = dset[i].numpy().squeeze()\n",
    "    img = bdsf_on_image(img_arr, **bdsf_kwargs)\n",
    "\n",
    "    fig, axs = plt.subplots(2, 2, figsize=(20, 20), tight_layout=True)\n",
    "    img_arr = img_arr.T\n",
    "\n",
    "    axs = axs.flatten()\n",
    "    axs[0].imshow(img_arr)\n",
    "    axs[1].imshow(img.model_gaus_arr)\n",
    "    axs[2].imshow(img_arr)\n",
    "    for i in np.unique(mask := img.island_labels):\n",
    "        axs[2].contour(\n",
    "            mask == i, levels=[0.5], colors=\"orange\", alpha=0.25, linewidths=0.5\n",
    "        )\n",
    "\n",
    "    # Post-process mask:\n",
    "    # Remove small islands\n",
    "    # Close mask\n",
    "    mask = binary_fill_holes(mask)\n",
    "    mask = binary_closing(mask, structure=np.ones((2,) * 2))\n",
    "    mask = binary_opening(mask, structure=np.ones((2,) * 2))\n",
    "    mask = remove_small_islands(mask, 8)\n",
    "\n",
    "    # Plot processed mask\n",
    "    for i in np.unique(mask):\n",
    "        axs[2].contour(mask == i, levels=[0.5], colors=\"r\", alpha=0.5, linewidths=0.5)\n",
    "\n",
    "    axs[3].imshow(img_arr * (mask > 0), vmin=0, vmax=1)\n",
    "\n",
    "    for ax in axs.flatten():\n",
    "        ax.axis(\"off\")\n",
    "    fig.show()"
   ]
  },
  {
   "cell_type": "code",
   "execution_count": null,
   "metadata": {},
   "outputs": [],
   "source": [
    "from skimage.measure import label, regionprops, find_contours\n",
    "\n",
    "plt.imshow(mask > 0)\n",
    "plt.show()\n",
    "\n",
    "plt.imshow(remove_small_islands(mask, 10))\n",
    "plt.show()"
   ]
  },
  {
   "cell_type": "markdown",
   "metadata": {},
   "source": [
    "# Threshold-Based Segmentation"
   ]
  },
  {
   "cell_type": "code",
   "execution_count": null,
   "metadata": {},
   "outputs": [],
   "source": [
    "from skimage.measure import label, regionprops, find_contours\n",
    "from astropy.stats import sigma_clipped_stats\n",
    "\n",
    "\n",
    "def remove_small_islands(mask, min_pixels):\n",
    "    # Label the islands in the mask\n",
    "    labels = label(mask)\n",
    "\n",
    "    # Create a new mask of the same shape as the original mask, filled with False\n",
    "    new_mask = np.zeros(mask.shape, dtype=bool)\n",
    "\n",
    "    # For each region (island) in the labeled mask\n",
    "    for region in regionprops(labels):\n",
    "        # If the region has at least min_pixels\n",
    "        if region.area >= min_pixels:\n",
    "            # Set the pixels in the new mask that correspond to this region to True\n",
    "            new_mask[labels == region.label] = True\n",
    "\n",
    "    return new_mask\n",
    "\n",
    "\n",
    "def plot_contours(mask, ax, color):\n",
    "    # Find the contours of the mask\n",
    "    contours = find_contours(mask, 0.5)\n",
    "    # Plot each contour\n",
    "    for contour in contours:\n",
    "        ax.plot(contour[:, 1], contour[:, 0], color=color)\n",
    "\n",
    "\n",
    "def expand_islands(mask1, mask2):\n",
    "    # Label the islands in the masks\n",
    "    labels1 = label(mask1)\n",
    "    labels2 = label(mask2)\n",
    "\n",
    "    # Create a new mask of the same shape as the original masks, filled with False\n",
    "    new_mask = np.copy(mask1)\n",
    "\n",
    "    # For each region (island) in the labeled first mask\n",
    "    for region in regionprops(labels1):\n",
    "        region_mask = labels1 == region.label\n",
    "        overlapping_labels = np.unique(labels2[region_mask * mask2])\n",
    "        if len(overlapping_labels) > 0:\n",
    "            overlap_mask = np.isin(labels2, overlapping_labels)\n",
    "            new_mask[overlap_mask] = True\n",
    "\n",
    "    return new_mask\n",
    "\n",
    "\n",
    "def sigma_mask_expand(\n",
    "    img,\n",
    "    px_threshold,\n",
    "    isl_threshold,\n",
    "    min_pixels,\n",
    "):\n",
    "    _, med, std = sigma_clipped_stats(img)\n",
    "\n",
    "    # Pixel threshold mask\n",
    "    mask = img > med + px_threshold * std\n",
    "\n",
    "    # Remove islands smaller than min_pixels\n",
    "    mask = remove_small_islands(mask, min_pixels)\n",
    "\n",
    "    # Less restrictive island mask\n",
    "    isl_mask = img > med + isl_threshold * std\n",
    "    # isl_mask = img > quantile_values(img, [0.8])[0]\n",
    "\n",
    "    # Find overlapping islands\n",
    "    expanded_mask = expand_islands(mask, isl_mask)\n",
    "\n",
    "    return expanded_mask, mask, isl_mask\n",
    "\n",
    "\n",
    "def quantile_mask_expand(img, q, size_thr=0.1, Q_thr=0.5):\n",
    "    q_vals = quantile_values(img, q)\n",
    "\n",
    "    # Pixel threshold mask\n",
    "    mask = img > q_vals[0]\n",
    "\n",
    "    isl_mask = img > q_vals[1]\n",
    "\n",
    "    expanded_mask = expand_islands(mask, isl_mask)\n",
    "\n",
    "    # Include islands from isl_mask whose sizes exceed size_thr * image size\n",
    "    labels = label(isl_mask)\n",
    "    for region in regionprops(labels):\n",
    "        Q = 4 * np.pi * region.area / region.perimeter**2\n",
    "        if region.area >= size_thr * img.size and Q > Q_thr:\n",
    "            expanded_mask[labels == region.label] = True\n",
    "\n",
    "    return expanded_mask, mask, isl_mask"
   ]
  },
  {
   "cell_type": "markdown",
   "metadata": {},
   "source": [
    "Compare Otsu and a trous Thresholding:"
   ]
  },
  {
   "cell_type": "code",
   "execution_count": null,
   "metadata": {},
   "outputs": [],
   "source": [
    "from astropy.stats import sigma_clipped_stats\n",
    "from skimage.filters import threshold_multiotsu, threshold_otsu\n",
    "import numpy as np\n",
    "import matplotlib.pyplot as plt\n",
    "\n",
    "n = 16\n",
    "idxs = np.random.choice(len(dset), n, replace=False)\n",
    "\n",
    "for i in idxs:\n",
    "    img = dset[i]\n",
    "    img = img.numpy().squeeze()\n",
    "    thresholds = threshold_multiotsu(img)\n",
    "    regions = np.digitize(\n",
    "        img, bins=thresholds if isinstance(thresholds, np.ndarray) else [thresholds]\n",
    "    )\n",
    "    mask2, mask1 = [regions >= i for i in range(1, 3)]\n",
    "\n",
    "    fig, axs = plt.subplots(1, 2)\n",
    "    # Plot image\n",
    "    axs[0].imshow(img)\n",
    "    axs[1].imshow(img)\n",
    "\n",
    "    mask_exp = mask2\n",
    "    i = 0\n",
    "    while True:\n",
    "        mean_bg, median_bg, sigma_bg = sigma_clipped_stats(img[~mask_exp])\n",
    "        mask_sigma = img > median_bg + 10 * sigma_bg\n",
    "        if mask_sigma.sum() <= mask_exp.sum() or i == 10:\n",
    "            break\n",
    "        mask_exp = expand_islands(mask_exp, mask_sigma)\n",
    "        axs[1].contour(mask_exp, levels=[0.5], colors=\"r\", alpha=0.1 * (i + 1))\n",
    "        i += 1\n",
    "    # Plot contours\n",
    "    axs[1].contour(mask2, levels=[0.5], colors=\"g\")\n",
    "    # axs[1].contour(mask_exp, levels=[0.5], colors=\"orange\", alpha=0.5)\n",
    "    for ax in axs:\n",
    "        ax.axis(\"off\")\n",
    "    fig.show()"
   ]
  },
  {
   "cell_type": "markdown",
   "metadata": {},
   "source": [
    "# Rotated Crop"
   ]
  },
  {
   "cell_type": "code",
   "execution_count": null,
   "metadata": {},
   "outputs": [],
   "source": [
    "# Experiment: Rotated center crop\n",
    "from torchvision.transforms import RandomRotation, CenterCrop"
   ]
  },
  {
   "cell_type": "code",
   "execution_count": null,
   "metadata": {},
   "outputs": [],
   "source": [
    "from torchvision.transforms import v2\n",
    "import matplotlib.pyplot as plt\n",
    "import matplotlib.patches as patches\n",
    "\n",
    "test_img, _ = dset[0]\n",
    "rotater = v2.RandomRotation(\n",
    "    degrees=180, interpolation=v2.InterpolationMode.BILINEAR, fill=1\n",
    ")\n",
    "cropper = v2.CenterCrop(np.floor(80 / np.sqrt(2)))\n",
    "img_r = rotater(test_img)\n",
    "img_c = cropper(img_r)\n",
    "\n",
    "fig, axs = plt.subplots(1, 3, figsize=(12, 4))\n",
    "\n",
    "axs[0].imshow(test_img.squeeze())\n",
    "axs[0].set_title(\"Original\")\n",
    "axs[1].imshow(img_r.squeeze())\n",
    "axs[1].set_title(\"Rotated\")\n",
    "# Calculate the center crop box coordinates\n",
    "original_width, original_height = (\n",
    "    test_img.shape[1],\n",
    "    test_img.shape[2],\n",
    ")  # Assuming test_img is CxHxW\n",
    "crop_size = np.floor(80 / np.sqrt(2))\n",
    "top_left_x = (original_width - crop_size) / 2\n",
    "top_left_y = (original_height - crop_size) / 2\n",
    "bottom_right_x = top_left_x + crop_size\n",
    "bottom_right_y = top_left_y + crop_size\n",
    "\n",
    "# Draw the center crop box on the original image\n",
    "rect = patches.Rectangle(\n",
    "    (top_left_x, top_left_y),\n",
    "    crop_size,\n",
    "    crop_size,\n",
    "    linewidth=1,\n",
    "    edgecolor=\"r\",\n",
    "    facecolor=\"none\",\n",
    ")\n",
    "axs[1].add_patch(rect)\n",
    "\n",
    "axs[2].imshow(img_c.squeeze())\n",
    "axs[2].set_title(\"Center Cropped\")\n",
    "\n",
    "for ax in axs:\n",
    "    ax.axis(\"off\")\n",
    "\n",
    "fig.show()"
   ]
  }
 ],
 "metadata": {
  "kernelspec": {
   "display_name": "cenv_diffusion",
   "language": "python",
   "name": "python3"
  },
  "language_info": {
   "codemirror_mode": {
    "name": "ipython",
    "version": 3
   },
   "file_extension": ".py",
   "mimetype": "text/x-python",
   "name": "python",
   "nbconvert_exporter": "python",
   "pygments_lexer": "ipython3",
   "version": "3.11.4"
  }
 },
 "nbformat": 4,
 "nbformat_minor": 2
}
